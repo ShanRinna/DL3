{
  "cells": [
    {
      "cell_type": "markdown",
      "metadata": {
        "id": "view-in-github",
        "colab_type": "text"
      },
      "source": [
        "<a href=\"https://colab.research.google.com/github/ShanRinna/DL3/blob/main/Titanic_SVM.ipynb\" target=\"_parent\"><img src=\"https://colab.research.google.com/assets/colab-badge.svg\" alt=\"Open In Colab\"/></a>"
      ]
    },
    {
      "cell_type": "code",
      "execution_count": null,
      "metadata": {
        "colab": {
          "base_uri": "https://localhost:8080/",
          "height": 441
        },
        "id": "026f3c07",
        "outputId": "7a5c68e2-c639-475f-cb27-ada8299bf38f",
        "scrolled": false
      },
      "outputs": [
        {
          "name": "stdout",
          "output_type": "stream",
          "text": [
            "Drive already mounted at /content/drive; to attempt to forcibly remount, call drive.mount(\"/content/drive\", force_remount=True).\n"
          ]
        },
        {
          "data": {
            "text/html": [
              "\n",
              "  <div id=\"df-fd5770b2-9e23-4941-8238-b55b4b2da47b\">\n",
              "    <div class=\"colab-df-container\">\n",
              "      <div>\n",
              "<style scoped>\n",
              "    .dataframe tbody tr th:only-of-type {\n",
              "        vertical-align: middle;\n",
              "    }\n",
              "\n",
              "    .dataframe tbody tr th {\n",
              "        vertical-align: top;\n",
              "    }\n",
              "\n",
              "    .dataframe thead th {\n",
              "        text-align: right;\n",
              "    }\n",
              "</style>\n",
              "<table border=\"1\" class=\"dataframe\">\n",
              "  <thead>\n",
              "    <tr style=\"text-align: right;\">\n",
              "      <th></th>\n",
              "      <th>Pclass</th>\n",
              "      <th>Sex</th>\n",
              "      <th>Age</th>\n",
              "      <th>SibSp</th>\n",
              "      <th>Parch</th>\n",
              "      <th>Fare</th>\n",
              "      <th>Embarked</th>\n",
              "      <th>Survived</th>\n",
              "    </tr>\n",
              "  </thead>\n",
              "  <tbody>\n",
              "    <tr>\n",
              "      <th>0</th>\n",
              "      <td>1</td>\n",
              "      <td>male</td>\n",
              "      <td>49.0</td>\n",
              "      <td>0</td>\n",
              "      <td>0</td>\n",
              "      <td>26.0000</td>\n",
              "      <td>S</td>\n",
              "      <td>no</td>\n",
              "    </tr>\n",
              "    <tr>\n",
              "      <th>1</th>\n",
              "      <td>1</td>\n",
              "      <td>male</td>\n",
              "      <td>47.0</td>\n",
              "      <td>0</td>\n",
              "      <td>0</td>\n",
              "      <td>38.5000</td>\n",
              "      <td>S</td>\n",
              "      <td>no</td>\n",
              "    </tr>\n",
              "    <tr>\n",
              "      <th>2</th>\n",
              "      <td>3</td>\n",
              "      <td>male</td>\n",
              "      <td>24.0</td>\n",
              "      <td>0</td>\n",
              "      <td>0</td>\n",
              "      <td>7.1417</td>\n",
              "      <td>S</td>\n",
              "      <td>yes</td>\n",
              "    </tr>\n",
              "    <tr>\n",
              "      <th>3</th>\n",
              "      <td>3</td>\n",
              "      <td>male</td>\n",
              "      <td>NaN</td>\n",
              "      <td>0</td>\n",
              "      <td>0</td>\n",
              "      <td>8.0500</td>\n",
              "      <td>S</td>\n",
              "      <td>no</td>\n",
              "    </tr>\n",
              "    <tr>\n",
              "      <th>4</th>\n",
              "      <td>3</td>\n",
              "      <td>male</td>\n",
              "      <td>28.0</td>\n",
              "      <td>0</td>\n",
              "      <td>0</td>\n",
              "      <td>8.0500</td>\n",
              "      <td>S</td>\n",
              "      <td>yes</td>\n",
              "    </tr>\n",
              "    <tr>\n",
              "      <th>...</th>\n",
              "      <td>...</td>\n",
              "      <td>...</td>\n",
              "      <td>...</td>\n",
              "      <td>...</td>\n",
              "      <td>...</td>\n",
              "      <td>...</td>\n",
              "      <td>...</td>\n",
              "      <td>...</td>\n",
              "    </tr>\n",
              "    <tr>\n",
              "      <th>1166</th>\n",
              "      <td>1</td>\n",
              "      <td>female</td>\n",
              "      <td>33.0</td>\n",
              "      <td>0</td>\n",
              "      <td>0</td>\n",
              "      <td>27.7208</td>\n",
              "      <td>C</td>\n",
              "      <td>no</td>\n",
              "    </tr>\n",
              "    <tr>\n",
              "      <th>1167</th>\n",
              "      <td>2</td>\n",
              "      <td>male</td>\n",
              "      <td>NaN</td>\n",
              "      <td>0</td>\n",
              "      <td>0</td>\n",
              "      <td>0.0000</td>\n",
              "      <td>S</td>\n",
              "      <td>no</td>\n",
              "    </tr>\n",
              "    <tr>\n",
              "      <th>1168</th>\n",
              "      <td>1</td>\n",
              "      <td>female</td>\n",
              "      <td>50.0</td>\n",
              "      <td>0</td>\n",
              "      <td>1</td>\n",
              "      <td>247.5208</td>\n",
              "      <td>C</td>\n",
              "      <td>yes</td>\n",
              "    </tr>\n",
              "    <tr>\n",
              "      <th>1169</th>\n",
              "      <td>1</td>\n",
              "      <td>male</td>\n",
              "      <td>NaN</td>\n",
              "      <td>0</td>\n",
              "      <td>0</td>\n",
              "      <td>221.7792</td>\n",
              "      <td>S</td>\n",
              "      <td>no</td>\n",
              "    </tr>\n",
              "    <tr>\n",
              "      <th>1170</th>\n",
              "      <td>2</td>\n",
              "      <td>male</td>\n",
              "      <td>NaN</td>\n",
              "      <td>0</td>\n",
              "      <td>0</td>\n",
              "      <td>15.0458</td>\n",
              "      <td>C</td>\n",
              "      <td>no</td>\n",
              "    </tr>\n",
              "  </tbody>\n",
              "</table>\n",
              "<p>1171 rows × 8 columns</p>\n",
              "</div>\n",
              "      <button class=\"colab-df-convert\" onclick=\"convertToInteractive('df-fd5770b2-9e23-4941-8238-b55b4b2da47b')\"\n",
              "              title=\"Convert this dataframe to an interactive table.\"\n",
              "              style=\"display:none;\">\n",
              "        \n",
              "  <svg xmlns=\"http://www.w3.org/2000/svg\" height=\"24px\"viewBox=\"0 0 24 24\"\n",
              "       width=\"24px\">\n",
              "    <path d=\"M0 0h24v24H0V0z\" fill=\"none\"/>\n",
              "    <path d=\"M18.56 5.44l.94 2.06.94-2.06 2.06-.94-2.06-.94-.94-2.06-.94 2.06-2.06.94zm-11 1L8.5 8.5l.94-2.06 2.06-.94-2.06-.94L8.5 2.5l-.94 2.06-2.06.94zm10 10l.94 2.06.94-2.06 2.06-.94-2.06-.94-.94-2.06-.94 2.06-2.06.94z\"/><path d=\"M17.41 7.96l-1.37-1.37c-.4-.4-.92-.59-1.43-.59-.52 0-1.04.2-1.43.59L10.3 9.45l-7.72 7.72c-.78.78-.78 2.05 0 2.83L4 21.41c.39.39.9.59 1.41.59.51 0 1.02-.2 1.41-.59l7.78-7.78 2.81-2.81c.8-.78.8-2.07 0-2.86zM5.41 20L4 18.59l7.72-7.72 1.47 1.35L5.41 20z\"/>\n",
              "  </svg>\n",
              "      </button>\n",
              "      \n",
              "  <style>\n",
              "    .colab-df-container {\n",
              "      display:flex;\n",
              "      flex-wrap:wrap;\n",
              "      gap: 12px;\n",
              "    }\n",
              "\n",
              "    .colab-df-convert {\n",
              "      background-color: #E8F0FE;\n",
              "      border: none;\n",
              "      border-radius: 50%;\n",
              "      cursor: pointer;\n",
              "      display: none;\n",
              "      fill: #1967D2;\n",
              "      height: 32px;\n",
              "      padding: 0 0 0 0;\n",
              "      width: 32px;\n",
              "    }\n",
              "\n",
              "    .colab-df-convert:hover {\n",
              "      background-color: #E2EBFA;\n",
              "      box-shadow: 0px 1px 2px rgba(60, 64, 67, 0.3), 0px 1px 3px 1px rgba(60, 64, 67, 0.15);\n",
              "      fill: #174EA6;\n",
              "    }\n",
              "\n",
              "    [theme=dark] .colab-df-convert {\n",
              "      background-color: #3B4455;\n",
              "      fill: #D2E3FC;\n",
              "    }\n",
              "\n",
              "    [theme=dark] .colab-df-convert:hover {\n",
              "      background-color: #434B5C;\n",
              "      box-shadow: 0px 1px 3px 1px rgba(0, 0, 0, 0.15);\n",
              "      filter: drop-shadow(0px 1px 2px rgba(0, 0, 0, 0.3));\n",
              "      fill: #FFFFFF;\n",
              "    }\n",
              "  </style>\n",
              "\n",
              "      <script>\n",
              "        const buttonEl =\n",
              "          document.querySelector('#df-fd5770b2-9e23-4941-8238-b55b4b2da47b button.colab-df-convert');\n",
              "        buttonEl.style.display =\n",
              "          google.colab.kernel.accessAllowed ? 'block' : 'none';\n",
              "\n",
              "        async function convertToInteractive(key) {\n",
              "          const element = document.querySelector('#df-fd5770b2-9e23-4941-8238-b55b4b2da47b');\n",
              "          const dataTable =\n",
              "            await google.colab.kernel.invokeFunction('convertToInteractive',\n",
              "                                                     [key], {});\n",
              "          if (!dataTable) return;\n",
              "\n",
              "          const docLinkHtml = 'Like what you see? Visit the ' +\n",
              "            '<a target=\"_blank\" href=https://colab.research.google.com/notebooks/data_table.ipynb>data table notebook</a>'\n",
              "            + ' to learn more about interactive tables.';\n",
              "          element.innerHTML = '';\n",
              "          dataTable['output_type'] = 'display_data';\n",
              "          await google.colab.output.renderOutput(dataTable, element);\n",
              "          const docLink = document.createElement('div');\n",
              "          docLink.innerHTML = docLinkHtml;\n",
              "          element.appendChild(docLink);\n",
              "        }\n",
              "      </script>\n",
              "    </div>\n",
              "  </div>\n",
              "  "
            ],
            "text/plain": [
              "      Pclass     Sex   Age  SibSp  Parch      Fare Embarked Survived\n",
              "0          1    male  49.0      0      0   26.0000        S       no\n",
              "1          1    male  47.0      0      0   38.5000        S       no\n",
              "2          3    male  24.0      0      0    7.1417        S      yes\n",
              "3          3    male   NaN      0      0    8.0500        S       no\n",
              "4          3    male  28.0      0      0    8.0500        S      yes\n",
              "...      ...     ...   ...    ...    ...       ...      ...      ...\n",
              "1166       1  female  33.0      0      0   27.7208        C       no\n",
              "1167       2    male   NaN      0      0    0.0000        S       no\n",
              "1168       1  female  50.0      0      1  247.5208        C      yes\n",
              "1169       1    male   NaN      0      0  221.7792        S       no\n",
              "1170       2    male   NaN      0      0   15.0458        C       no\n",
              "\n",
              "[1171 rows x 8 columns]"
            ]
          },
          "execution_count": 5,
          "metadata": {},
          "output_type": "execute_result"
        }
      ],
      "source": [
        "from google.colab import drive\n",
        "drive.mount('/content/drive')\n",
        "#load data for PC(sometimes need to use \"/\")\n",
        "df = pd.read_csv('/content/Titanic_asignment_group3.csv')\n",
        "#load data for colab\n",
        "#df = pd.read_csv('')\n",
        "df\n"
      ],
      "id": "026f3c07"
    },
    {
      "cell_type": "markdown",
      "metadata": {
        "id": "d9697219"
      },
      "source": [
        "# 1. Quick overview to get a grasp of the data set"
      ],
      "id": "d9697219"
    },
    {
      "cell_type": "markdown",
      "metadata": {
        "id": "f42cdd81"
      },
      "source": [
        "key function: pd.info(); pd.astype(); describe(); pd.value_counts()"
      ],
      "id": "f42cdd81"
    },
    {
      "cell_type": "code",
      "execution_count": null,
      "metadata": {
        "colab": {
          "base_uri": "https://localhost:8080/"
        },
        "id": "c864742d",
        "outputId": "a17d75d7-83ad-4a03-d7eb-b5a2f2efc9af"
      },
      "outputs": [
        {
          "name": "stdout",
          "output_type": "stream",
          "text": [
            "<class 'pandas.core.frame.DataFrame'>\n",
            "RangeIndex: 1171 entries, 0 to 1170\n",
            "Data columns (total 8 columns):\n",
            " #   Column    Non-Null Count  Dtype  \n",
            "---  ------    --------------  -----  \n",
            " 0   Pclass    1171 non-null   int64  \n",
            " 1   Sex       1171 non-null   object \n",
            " 2   Age       894 non-null    float64\n",
            " 3   SibSp     1171 non-null   int64  \n",
            " 4   Parch     1171 non-null   int64  \n",
            " 5   Fare      1170 non-null   float64\n",
            " 6   Embarked  1171 non-null   object \n",
            " 7   Survived  1171 non-null   object \n",
            "dtypes: float64(2), int64(3), object(3)\n",
            "memory usage: 73.3+ KB\n"
          ]
        }
      ],
      "source": [
        "# 1.1 Easiest way to check data type and if there are any missing value\n",
        "df.info()"
      ],
      "id": "c864742d"
    },
    {
      "cell_type": "code",
      "execution_count": null,
      "metadata": {
        "colab": {
          "base_uri": "https://localhost:8080/",
          "height": 300
        },
        "id": "da430432",
        "outputId": "90cefb15-6254-41fd-886f-a6eb7fedab57",
        "scrolled": true
      },
      "outputs": [
        {
          "data": {
            "text/html": [
              "\n",
              "  <div id=\"df-b0851acf-d1e6-42e1-b34b-501ee275e7a7\">\n",
              "    <div class=\"colab-df-container\">\n",
              "      <div>\n",
              "<style scoped>\n",
              "    .dataframe tbody tr th:only-of-type {\n",
              "        vertical-align: middle;\n",
              "    }\n",
              "\n",
              "    .dataframe tbody tr th {\n",
              "        vertical-align: top;\n",
              "    }\n",
              "\n",
              "    .dataframe thead th {\n",
              "        text-align: right;\n",
              "    }\n",
              "</style>\n",
              "<table border=\"1\" class=\"dataframe\">\n",
              "  <thead>\n",
              "    <tr style=\"text-align: right;\">\n",
              "      <th></th>\n",
              "      <th>Pclass</th>\n",
              "      <th>Age</th>\n",
              "      <th>SibSp</th>\n",
              "      <th>Parch</th>\n",
              "      <th>Fare</th>\n",
              "    </tr>\n",
              "  </thead>\n",
              "  <tbody>\n",
              "    <tr>\n",
              "      <th>count</th>\n",
              "      <td>1171.000000</td>\n",
              "      <td>894.000000</td>\n",
              "      <td>1171.000000</td>\n",
              "      <td>1171.000000</td>\n",
              "      <td>1170.000000</td>\n",
              "    </tr>\n",
              "    <tr>\n",
              "      <th>mean</th>\n",
              "      <td>2.296328</td>\n",
              "      <td>29.772931</td>\n",
              "      <td>0.495303</td>\n",
              "      <td>0.395389</td>\n",
              "      <td>33.318457</td>\n",
              "    </tr>\n",
              "    <tr>\n",
              "      <th>std</th>\n",
              "      <td>0.835215</td>\n",
              "      <td>13.777341</td>\n",
              "      <td>1.014731</td>\n",
              "      <td>0.891525</td>\n",
              "      <td>52.795374</td>\n",
              "    </tr>\n",
              "    <tr>\n",
              "      <th>min</th>\n",
              "      <td>1.000000</td>\n",
              "      <td>1.000000</td>\n",
              "      <td>0.000000</td>\n",
              "      <td>0.000000</td>\n",
              "      <td>0.000000</td>\n",
              "    </tr>\n",
              "    <tr>\n",
              "      <th>25%</th>\n",
              "      <td>2.000000</td>\n",
              "      <td>21.000000</td>\n",
              "      <td>0.000000</td>\n",
              "      <td>0.000000</td>\n",
              "      <td>7.895800</td>\n",
              "    </tr>\n",
              "    <tr>\n",
              "      <th>50%</th>\n",
              "      <td>3.000000</td>\n",
              "      <td>28.000000</td>\n",
              "      <td>0.000000</td>\n",
              "      <td>0.000000</td>\n",
              "      <td>14.454200</td>\n",
              "    </tr>\n",
              "    <tr>\n",
              "      <th>75%</th>\n",
              "      <td>3.000000</td>\n",
              "      <td>39.000000</td>\n",
              "      <td>1.000000</td>\n",
              "      <td>0.000000</td>\n",
              "      <td>31.275000</td>\n",
              "    </tr>\n",
              "    <tr>\n",
              "      <th>max</th>\n",
              "      <td>3.000000</td>\n",
              "      <td>70.000000</td>\n",
              "      <td>8.000000</td>\n",
              "      <td>9.000000</td>\n",
              "      <td>512.329200</td>\n",
              "    </tr>\n",
              "  </tbody>\n",
              "</table>\n",
              "</div>\n",
              "      <button class=\"colab-df-convert\" onclick=\"convertToInteractive('df-b0851acf-d1e6-42e1-b34b-501ee275e7a7')\"\n",
              "              title=\"Convert this dataframe to an interactive table.\"\n",
              "              style=\"display:none;\">\n",
              "        \n",
              "  <svg xmlns=\"http://www.w3.org/2000/svg\" height=\"24px\"viewBox=\"0 0 24 24\"\n",
              "       width=\"24px\">\n",
              "    <path d=\"M0 0h24v24H0V0z\" fill=\"none\"/>\n",
              "    <path d=\"M18.56 5.44l.94 2.06.94-2.06 2.06-.94-2.06-.94-.94-2.06-.94 2.06-2.06.94zm-11 1L8.5 8.5l.94-2.06 2.06-.94-2.06-.94L8.5 2.5l-.94 2.06-2.06.94zm10 10l.94 2.06.94-2.06 2.06-.94-2.06-.94-.94-2.06-.94 2.06-2.06.94z\"/><path d=\"M17.41 7.96l-1.37-1.37c-.4-.4-.92-.59-1.43-.59-.52 0-1.04.2-1.43.59L10.3 9.45l-7.72 7.72c-.78.78-.78 2.05 0 2.83L4 21.41c.39.39.9.59 1.41.59.51 0 1.02-.2 1.41-.59l7.78-7.78 2.81-2.81c.8-.78.8-2.07 0-2.86zM5.41 20L4 18.59l7.72-7.72 1.47 1.35L5.41 20z\"/>\n",
              "  </svg>\n",
              "      </button>\n",
              "      \n",
              "  <style>\n",
              "    .colab-df-container {\n",
              "      display:flex;\n",
              "      flex-wrap:wrap;\n",
              "      gap: 12px;\n",
              "    }\n",
              "\n",
              "    .colab-df-convert {\n",
              "      background-color: #E8F0FE;\n",
              "      border: none;\n",
              "      border-radius: 50%;\n",
              "      cursor: pointer;\n",
              "      display: none;\n",
              "      fill: #1967D2;\n",
              "      height: 32px;\n",
              "      padding: 0 0 0 0;\n",
              "      width: 32px;\n",
              "    }\n",
              "\n",
              "    .colab-df-convert:hover {\n",
              "      background-color: #E2EBFA;\n",
              "      box-shadow: 0px 1px 2px rgba(60, 64, 67, 0.3), 0px 1px 3px 1px rgba(60, 64, 67, 0.15);\n",
              "      fill: #174EA6;\n",
              "    }\n",
              "\n",
              "    [theme=dark] .colab-df-convert {\n",
              "      background-color: #3B4455;\n",
              "      fill: #D2E3FC;\n",
              "    }\n",
              "\n",
              "    [theme=dark] .colab-df-convert:hover {\n",
              "      background-color: #434B5C;\n",
              "      box-shadow: 0px 1px 3px 1px rgba(0, 0, 0, 0.15);\n",
              "      filter: drop-shadow(0px 1px 2px rgba(0, 0, 0, 0.3));\n",
              "      fill: #FFFFFF;\n",
              "    }\n",
              "  </style>\n",
              "\n",
              "      <script>\n",
              "        const buttonEl =\n",
              "          document.querySelector('#df-b0851acf-d1e6-42e1-b34b-501ee275e7a7 button.colab-df-convert');\n",
              "        buttonEl.style.display =\n",
              "          google.colab.kernel.accessAllowed ? 'block' : 'none';\n",
              "\n",
              "        async function convertToInteractive(key) {\n",
              "          const element = document.querySelector('#df-b0851acf-d1e6-42e1-b34b-501ee275e7a7');\n",
              "          const dataTable =\n",
              "            await google.colab.kernel.invokeFunction('convertToInteractive',\n",
              "                                                     [key], {});\n",
              "          if (!dataTable) return;\n",
              "\n",
              "          const docLinkHtml = 'Like what you see? Visit the ' +\n",
              "            '<a target=\"_blank\" href=https://colab.research.google.com/notebooks/data_table.ipynb>data table notebook</a>'\n",
              "            + ' to learn more about interactive tables.';\n",
              "          element.innerHTML = '';\n",
              "          dataTable['output_type'] = 'display_data';\n",
              "          await google.colab.output.renderOutput(dataTable, element);\n",
              "          const docLink = document.createElement('div');\n",
              "          docLink.innerHTML = docLinkHtml;\n",
              "          element.appendChild(docLink);\n",
              "        }\n",
              "      </script>\n",
              "    </div>\n",
              "  </div>\n",
              "  "
            ],
            "text/plain": [
              "            Pclass         Age        SibSp        Parch         Fare\n",
              "count  1171.000000  894.000000  1171.000000  1171.000000  1170.000000\n",
              "mean      2.296328   29.772931     0.495303     0.395389    33.318457\n",
              "std       0.835215   13.777341     1.014731     0.891525    52.795374\n",
              "min       1.000000    1.000000     0.000000     0.000000     0.000000\n",
              "25%       2.000000   21.000000     0.000000     0.000000     7.895800\n",
              "50%       3.000000   28.000000     0.000000     0.000000    14.454200\n",
              "75%       3.000000   39.000000     1.000000     0.000000    31.275000\n",
              "max       3.000000   70.000000     8.000000     9.000000   512.329200"
            ]
          },
          "execution_count": 7,
          "metadata": {},
          "output_type": "execute_result"
        }
      ],
      "source": [
        "# 1.2 When using the describe function in default, pandas automatically selects the numerical columns\n",
        "df.describe()"
      ],
      "id": "da430432"
    },
    {
      "cell_type": "markdown",
      "metadata": {
        "id": "a8c46a2f"
      },
      "source": [
        "Note: Pclass is categorical data with dummies, so converting to correct data type is required"
      ],
      "id": "a8c46a2f"
    },
    {
      "cell_type": "code",
      "execution_count": null,
      "metadata": {
        "colab": {
          "base_uri": "https://localhost:8080/"
        },
        "id": "23424590",
        "outputId": "be3dd5e5-d3ad-414b-8c1d-712fcfda2aed"
      },
      "outputs": [
        {
          "name": "stdout",
          "output_type": "stream",
          "text": [
            "<class 'pandas.core.frame.DataFrame'>\n",
            "RangeIndex: 1171 entries, 0 to 1170\n",
            "Data columns (total 8 columns):\n",
            " #   Column    Non-Null Count  Dtype  \n",
            "---  ------    --------------  -----  \n",
            " 0   Pclass    1171 non-null   object \n",
            " 1   Sex       1171 non-null   object \n",
            " 2   Age       894 non-null    float64\n",
            " 3   SibSp     1171 non-null   int64  \n",
            " 4   Parch     1171 non-null   int64  \n",
            " 5   Fare      1170 non-null   float64\n",
            " 6   Embarked  1171 non-null   object \n",
            " 7   Survived  1171 non-null   object \n",
            "dtypes: float64(2), int64(2), object(4)\n",
            "memory usage: 73.3+ KB\n"
          ]
        }
      ],
      "source": [
        "# Change data type\n",
        "df[['Pclass']]=df[['Pclass']].astype(str)\n",
        "df.info()"
      ],
      "id": "23424590"
    },
    {
      "cell_type": "code",
      "execution_count": null,
      "metadata": {
        "colab": {
          "base_uri": "https://localhost:8080/",
          "height": 300
        },
        "id": "aa75b2f6",
        "outputId": "d067aa70-5446-4a3c-9db8-cdff9074b3c9"
      },
      "outputs": [
        {
          "data": {
            "text/html": [
              "\n",
              "  <div id=\"df-18280b32-a306-4480-bb6d-79fe449ac353\">\n",
              "    <div class=\"colab-df-container\">\n",
              "      <div>\n",
              "<style scoped>\n",
              "    .dataframe tbody tr th:only-of-type {\n",
              "        vertical-align: middle;\n",
              "    }\n",
              "\n",
              "    .dataframe tbody tr th {\n",
              "        vertical-align: top;\n",
              "    }\n",
              "\n",
              "    .dataframe thead th {\n",
              "        text-align: right;\n",
              "    }\n",
              "</style>\n",
              "<table border=\"1\" class=\"dataframe\">\n",
              "  <thead>\n",
              "    <tr style=\"text-align: right;\">\n",
              "      <th></th>\n",
              "      <th>Age</th>\n",
              "      <th>SibSp</th>\n",
              "      <th>Parch</th>\n",
              "      <th>Fare</th>\n",
              "    </tr>\n",
              "  </thead>\n",
              "  <tbody>\n",
              "    <tr>\n",
              "      <th>count</th>\n",
              "      <td>894.000000</td>\n",
              "      <td>1171.000000</td>\n",
              "      <td>1171.000000</td>\n",
              "      <td>1170.000000</td>\n",
              "    </tr>\n",
              "    <tr>\n",
              "      <th>mean</th>\n",
              "      <td>29.772931</td>\n",
              "      <td>0.495303</td>\n",
              "      <td>0.395389</td>\n",
              "      <td>33.318457</td>\n",
              "    </tr>\n",
              "    <tr>\n",
              "      <th>std</th>\n",
              "      <td>13.777341</td>\n",
              "      <td>1.014731</td>\n",
              "      <td>0.891525</td>\n",
              "      <td>52.795374</td>\n",
              "    </tr>\n",
              "    <tr>\n",
              "      <th>min</th>\n",
              "      <td>1.000000</td>\n",
              "      <td>0.000000</td>\n",
              "      <td>0.000000</td>\n",
              "      <td>0.000000</td>\n",
              "    </tr>\n",
              "    <tr>\n",
              "      <th>25%</th>\n",
              "      <td>21.000000</td>\n",
              "      <td>0.000000</td>\n",
              "      <td>0.000000</td>\n",
              "      <td>7.895800</td>\n",
              "    </tr>\n",
              "    <tr>\n",
              "      <th>50%</th>\n",
              "      <td>28.000000</td>\n",
              "      <td>0.000000</td>\n",
              "      <td>0.000000</td>\n",
              "      <td>14.454200</td>\n",
              "    </tr>\n",
              "    <tr>\n",
              "      <th>75%</th>\n",
              "      <td>39.000000</td>\n",
              "      <td>1.000000</td>\n",
              "      <td>0.000000</td>\n",
              "      <td>31.275000</td>\n",
              "    </tr>\n",
              "    <tr>\n",
              "      <th>max</th>\n",
              "      <td>70.000000</td>\n",
              "      <td>8.000000</td>\n",
              "      <td>9.000000</td>\n",
              "      <td>512.329200</td>\n",
              "    </tr>\n",
              "  </tbody>\n",
              "</table>\n",
              "</div>\n",
              "      <button class=\"colab-df-convert\" onclick=\"convertToInteractive('df-18280b32-a306-4480-bb6d-79fe449ac353')\"\n",
              "              title=\"Convert this dataframe to an interactive table.\"\n",
              "              style=\"display:none;\">\n",
              "        \n",
              "  <svg xmlns=\"http://www.w3.org/2000/svg\" height=\"24px\"viewBox=\"0 0 24 24\"\n",
              "       width=\"24px\">\n",
              "    <path d=\"M0 0h24v24H0V0z\" fill=\"none\"/>\n",
              "    <path d=\"M18.56 5.44l.94 2.06.94-2.06 2.06-.94-2.06-.94-.94-2.06-.94 2.06-2.06.94zm-11 1L8.5 8.5l.94-2.06 2.06-.94-2.06-.94L8.5 2.5l-.94 2.06-2.06.94zm10 10l.94 2.06.94-2.06 2.06-.94-2.06-.94-.94-2.06-.94 2.06-2.06.94z\"/><path d=\"M17.41 7.96l-1.37-1.37c-.4-.4-.92-.59-1.43-.59-.52 0-1.04.2-1.43.59L10.3 9.45l-7.72 7.72c-.78.78-.78 2.05 0 2.83L4 21.41c.39.39.9.59 1.41.59.51 0 1.02-.2 1.41-.59l7.78-7.78 2.81-2.81c.8-.78.8-2.07 0-2.86zM5.41 20L4 18.59l7.72-7.72 1.47 1.35L5.41 20z\"/>\n",
              "  </svg>\n",
              "      </button>\n",
              "      \n",
              "  <style>\n",
              "    .colab-df-container {\n",
              "      display:flex;\n",
              "      flex-wrap:wrap;\n",
              "      gap: 12px;\n",
              "    }\n",
              "\n",
              "    .colab-df-convert {\n",
              "      background-color: #E8F0FE;\n",
              "      border: none;\n",
              "      border-radius: 50%;\n",
              "      cursor: pointer;\n",
              "      display: none;\n",
              "      fill: #1967D2;\n",
              "      height: 32px;\n",
              "      padding: 0 0 0 0;\n",
              "      width: 32px;\n",
              "    }\n",
              "\n",
              "    .colab-df-convert:hover {\n",
              "      background-color: #E2EBFA;\n",
              "      box-shadow: 0px 1px 2px rgba(60, 64, 67, 0.3), 0px 1px 3px 1px rgba(60, 64, 67, 0.15);\n",
              "      fill: #174EA6;\n",
              "    }\n",
              "\n",
              "    [theme=dark] .colab-df-convert {\n",
              "      background-color: #3B4455;\n",
              "      fill: #D2E3FC;\n",
              "    }\n",
              "\n",
              "    [theme=dark] .colab-df-convert:hover {\n",
              "      background-color: #434B5C;\n",
              "      box-shadow: 0px 1px 3px 1px rgba(0, 0, 0, 0.15);\n",
              "      filter: drop-shadow(0px 1px 2px rgba(0, 0, 0, 0.3));\n",
              "      fill: #FFFFFF;\n",
              "    }\n",
              "  </style>\n",
              "\n",
              "      <script>\n",
              "        const buttonEl =\n",
              "          document.querySelector('#df-18280b32-a306-4480-bb6d-79fe449ac353 button.colab-df-convert');\n",
              "        buttonEl.style.display =\n",
              "          google.colab.kernel.accessAllowed ? 'block' : 'none';\n",
              "\n",
              "        async function convertToInteractive(key) {\n",
              "          const element = document.querySelector('#df-18280b32-a306-4480-bb6d-79fe449ac353');\n",
              "          const dataTable =\n",
              "            await google.colab.kernel.invokeFunction('convertToInteractive',\n",
              "                                                     [key], {});\n",
              "          if (!dataTable) return;\n",
              "\n",
              "          const docLinkHtml = 'Like what you see? Visit the ' +\n",
              "            '<a target=\"_blank\" href=https://colab.research.google.com/notebooks/data_table.ipynb>data table notebook</a>'\n",
              "            + ' to learn more about interactive tables.';\n",
              "          element.innerHTML = '';\n",
              "          dataTable['output_type'] = 'display_data';\n",
              "          await google.colab.output.renderOutput(dataTable, element);\n",
              "          const docLink = document.createElement('div');\n",
              "          docLink.innerHTML = docLinkHtml;\n",
              "          element.appendChild(docLink);\n",
              "        }\n",
              "      </script>\n",
              "    </div>\n",
              "  </div>\n",
              "  "
            ],
            "text/plain": [
              "              Age        SibSp        Parch         Fare\n",
              "count  894.000000  1171.000000  1171.000000  1170.000000\n",
              "mean    29.772931     0.495303     0.395389    33.318457\n",
              "std     13.777341     1.014731     0.891525    52.795374\n",
              "min      1.000000     0.000000     0.000000     0.000000\n",
              "25%     21.000000     0.000000     0.000000     7.895800\n",
              "50%     28.000000     0.000000     0.000000    14.454200\n",
              "75%     39.000000     1.000000     0.000000    31.275000\n",
              "max     70.000000     8.000000     9.000000   512.329200"
            ]
          },
          "execution_count": 9,
          "metadata": {},
          "output_type": "execute_result"
        }
      ],
      "source": [
        "# 1.2 Show the correct descriptive statistics\n",
        "df.describe()"
      ],
      "id": "aa75b2f6"
    },
    {
      "cell_type": "code",
      "execution_count": null,
      "metadata": {
        "colab": {
          "base_uri": "https://localhost:8080/",
          "height": 394
        },
        "id": "96776fc5",
        "outputId": "9c98c228-9ea0-48d6-977d-acb648b13e61"
      },
      "outputs": [
        {
          "data": {
            "text/html": [
              "\n",
              "  <div id=\"df-fdce21ba-e8a6-48e3-859b-169b051d90b1\">\n",
              "    <div class=\"colab-df-container\">\n",
              "      <div>\n",
              "<style scoped>\n",
              "    .dataframe tbody tr th:only-of-type {\n",
              "        vertical-align: middle;\n",
              "    }\n",
              "\n",
              "    .dataframe tbody tr th {\n",
              "        vertical-align: top;\n",
              "    }\n",
              "\n",
              "    .dataframe thead th {\n",
              "        text-align: right;\n",
              "    }\n",
              "</style>\n",
              "<table border=\"1\" class=\"dataframe\">\n",
              "  <thead>\n",
              "    <tr style=\"text-align: right;\">\n",
              "      <th></th>\n",
              "      <th>Pclass</th>\n",
              "      <th>Sex</th>\n",
              "      <th>Age</th>\n",
              "      <th>SibSp</th>\n",
              "      <th>Parch</th>\n",
              "      <th>Fare</th>\n",
              "      <th>Embarked</th>\n",
              "      <th>Survived</th>\n",
              "    </tr>\n",
              "  </thead>\n",
              "  <tbody>\n",
              "    <tr>\n",
              "      <th>count</th>\n",
              "      <td>1171</td>\n",
              "      <td>1171</td>\n",
              "      <td>894.000000</td>\n",
              "      <td>1171.000000</td>\n",
              "      <td>1171.000000</td>\n",
              "      <td>1170.000000</td>\n",
              "      <td>1171</td>\n",
              "      <td>1171</td>\n",
              "    </tr>\n",
              "    <tr>\n",
              "      <th>unique</th>\n",
              "      <td>3</td>\n",
              "      <td>2</td>\n",
              "      <td>NaN</td>\n",
              "      <td>NaN</td>\n",
              "      <td>NaN</td>\n",
              "      <td>NaN</td>\n",
              "      <td>3</td>\n",
              "      <td>2</td>\n",
              "    </tr>\n",
              "    <tr>\n",
              "      <th>top</th>\n",
              "      <td>3</td>\n",
              "      <td>male</td>\n",
              "      <td>NaN</td>\n",
              "      <td>NaN</td>\n",
              "      <td>NaN</td>\n",
              "      <td>NaN</td>\n",
              "      <td>S</td>\n",
              "      <td>no</td>\n",
              "    </tr>\n",
              "    <tr>\n",
              "      <th>freq</th>\n",
              "      <td>633</td>\n",
              "      <td>755</td>\n",
              "      <td>NaN</td>\n",
              "      <td>NaN</td>\n",
              "      <td>NaN</td>\n",
              "      <td>NaN</td>\n",
              "      <td>810</td>\n",
              "      <td>731</td>\n",
              "    </tr>\n",
              "    <tr>\n",
              "      <th>mean</th>\n",
              "      <td>NaN</td>\n",
              "      <td>NaN</td>\n",
              "      <td>29.772931</td>\n",
              "      <td>0.495303</td>\n",
              "      <td>0.395389</td>\n",
              "      <td>33.318457</td>\n",
              "      <td>NaN</td>\n",
              "      <td>NaN</td>\n",
              "    </tr>\n",
              "    <tr>\n",
              "      <th>std</th>\n",
              "      <td>NaN</td>\n",
              "      <td>NaN</td>\n",
              "      <td>13.777341</td>\n",
              "      <td>1.014731</td>\n",
              "      <td>0.891525</td>\n",
              "      <td>52.795374</td>\n",
              "      <td>NaN</td>\n",
              "      <td>NaN</td>\n",
              "    </tr>\n",
              "    <tr>\n",
              "      <th>min</th>\n",
              "      <td>NaN</td>\n",
              "      <td>NaN</td>\n",
              "      <td>1.000000</td>\n",
              "      <td>0.000000</td>\n",
              "      <td>0.000000</td>\n",
              "      <td>0.000000</td>\n",
              "      <td>NaN</td>\n",
              "      <td>NaN</td>\n",
              "    </tr>\n",
              "    <tr>\n",
              "      <th>25%</th>\n",
              "      <td>NaN</td>\n",
              "      <td>NaN</td>\n",
              "      <td>21.000000</td>\n",
              "      <td>0.000000</td>\n",
              "      <td>0.000000</td>\n",
              "      <td>7.895800</td>\n",
              "      <td>NaN</td>\n",
              "      <td>NaN</td>\n",
              "    </tr>\n",
              "    <tr>\n",
              "      <th>50%</th>\n",
              "      <td>NaN</td>\n",
              "      <td>NaN</td>\n",
              "      <td>28.000000</td>\n",
              "      <td>0.000000</td>\n",
              "      <td>0.000000</td>\n",
              "      <td>14.454200</td>\n",
              "      <td>NaN</td>\n",
              "      <td>NaN</td>\n",
              "    </tr>\n",
              "    <tr>\n",
              "      <th>75%</th>\n",
              "      <td>NaN</td>\n",
              "      <td>NaN</td>\n",
              "      <td>39.000000</td>\n",
              "      <td>1.000000</td>\n",
              "      <td>0.000000</td>\n",
              "      <td>31.275000</td>\n",
              "      <td>NaN</td>\n",
              "      <td>NaN</td>\n",
              "    </tr>\n",
              "    <tr>\n",
              "      <th>max</th>\n",
              "      <td>NaN</td>\n",
              "      <td>NaN</td>\n",
              "      <td>70.000000</td>\n",
              "      <td>8.000000</td>\n",
              "      <td>9.000000</td>\n",
              "      <td>512.329200</td>\n",
              "      <td>NaN</td>\n",
              "      <td>NaN</td>\n",
              "    </tr>\n",
              "  </tbody>\n",
              "</table>\n",
              "</div>\n",
              "      <button class=\"colab-df-convert\" onclick=\"convertToInteractive('df-fdce21ba-e8a6-48e3-859b-169b051d90b1')\"\n",
              "              title=\"Convert this dataframe to an interactive table.\"\n",
              "              style=\"display:none;\">\n",
              "        \n",
              "  <svg xmlns=\"http://www.w3.org/2000/svg\" height=\"24px\"viewBox=\"0 0 24 24\"\n",
              "       width=\"24px\">\n",
              "    <path d=\"M0 0h24v24H0V0z\" fill=\"none\"/>\n",
              "    <path d=\"M18.56 5.44l.94 2.06.94-2.06 2.06-.94-2.06-.94-.94-2.06-.94 2.06-2.06.94zm-11 1L8.5 8.5l.94-2.06 2.06-.94-2.06-.94L8.5 2.5l-.94 2.06-2.06.94zm10 10l.94 2.06.94-2.06 2.06-.94-2.06-.94-.94-2.06-.94 2.06-2.06.94z\"/><path d=\"M17.41 7.96l-1.37-1.37c-.4-.4-.92-.59-1.43-.59-.52 0-1.04.2-1.43.59L10.3 9.45l-7.72 7.72c-.78.78-.78 2.05 0 2.83L4 21.41c.39.39.9.59 1.41.59.51 0 1.02-.2 1.41-.59l7.78-7.78 2.81-2.81c.8-.78.8-2.07 0-2.86zM5.41 20L4 18.59l7.72-7.72 1.47 1.35L5.41 20z\"/>\n",
              "  </svg>\n",
              "      </button>\n",
              "      \n",
              "  <style>\n",
              "    .colab-df-container {\n",
              "      display:flex;\n",
              "      flex-wrap:wrap;\n",
              "      gap: 12px;\n",
              "    }\n",
              "\n",
              "    .colab-df-convert {\n",
              "      background-color: #E8F0FE;\n",
              "      border: none;\n",
              "      border-radius: 50%;\n",
              "      cursor: pointer;\n",
              "      display: none;\n",
              "      fill: #1967D2;\n",
              "      height: 32px;\n",
              "      padding: 0 0 0 0;\n",
              "      width: 32px;\n",
              "    }\n",
              "\n",
              "    .colab-df-convert:hover {\n",
              "      background-color: #E2EBFA;\n",
              "      box-shadow: 0px 1px 2px rgba(60, 64, 67, 0.3), 0px 1px 3px 1px rgba(60, 64, 67, 0.15);\n",
              "      fill: #174EA6;\n",
              "    }\n",
              "\n",
              "    [theme=dark] .colab-df-convert {\n",
              "      background-color: #3B4455;\n",
              "      fill: #D2E3FC;\n",
              "    }\n",
              "\n",
              "    [theme=dark] .colab-df-convert:hover {\n",
              "      background-color: #434B5C;\n",
              "      box-shadow: 0px 1px 3px 1px rgba(0, 0, 0, 0.15);\n",
              "      filter: drop-shadow(0px 1px 2px rgba(0, 0, 0, 0.3));\n",
              "      fill: #FFFFFF;\n",
              "    }\n",
              "  </style>\n",
              "\n",
              "      <script>\n",
              "        const buttonEl =\n",
              "          document.querySelector('#df-fdce21ba-e8a6-48e3-859b-169b051d90b1 button.colab-df-convert');\n",
              "        buttonEl.style.display =\n",
              "          google.colab.kernel.accessAllowed ? 'block' : 'none';\n",
              "\n",
              "        async function convertToInteractive(key) {\n",
              "          const element = document.querySelector('#df-fdce21ba-e8a6-48e3-859b-169b051d90b1');\n",
              "          const dataTable =\n",
              "            await google.colab.kernel.invokeFunction('convertToInteractive',\n",
              "                                                     [key], {});\n",
              "          if (!dataTable) return;\n",
              "\n",
              "          const docLinkHtml = 'Like what you see? Visit the ' +\n",
              "            '<a target=\"_blank\" href=https://colab.research.google.com/notebooks/data_table.ipynb>data table notebook</a>'\n",
              "            + ' to learn more about interactive tables.';\n",
              "          element.innerHTML = '';\n",
              "          dataTable['output_type'] = 'display_data';\n",
              "          await google.colab.output.renderOutput(dataTable, element);\n",
              "          const docLink = document.createElement('div');\n",
              "          docLink.innerHTML = docLinkHtml;\n",
              "          element.appendChild(docLink);\n",
              "        }\n",
              "      </script>\n",
              "    </div>\n",
              "  </div>\n",
              "  "
            ],
            "text/plain": [
              "       Pclass   Sex         Age        SibSp        Parch         Fare  \\\n",
              "count    1171  1171  894.000000  1171.000000  1171.000000  1170.000000   \n",
              "unique      3     2         NaN          NaN          NaN          NaN   \n",
              "top         3  male         NaN          NaN          NaN          NaN   \n",
              "freq      633   755         NaN          NaN          NaN          NaN   \n",
              "mean      NaN   NaN   29.772931     0.495303     0.395389    33.318457   \n",
              "std       NaN   NaN   13.777341     1.014731     0.891525    52.795374   \n",
              "min       NaN   NaN    1.000000     0.000000     0.000000     0.000000   \n",
              "25%       NaN   NaN   21.000000     0.000000     0.000000     7.895800   \n",
              "50%       NaN   NaN   28.000000     0.000000     0.000000    14.454200   \n",
              "75%       NaN   NaN   39.000000     1.000000     0.000000    31.275000   \n",
              "max       NaN   NaN   70.000000     8.000000     9.000000   512.329200   \n",
              "\n",
              "       Embarked Survived  \n",
              "count      1171     1171  \n",
              "unique        3        2  \n",
              "top           S       no  \n",
              "freq        810      731  \n",
              "mean        NaN      NaN  \n",
              "std         NaN      NaN  \n",
              "min         NaN      NaN  \n",
              "25%         NaN      NaN  \n",
              "50%         NaN      NaN  \n",
              "75%         NaN      NaN  \n",
              "max         NaN      NaN  "
            ]
          },
          "execution_count": 10,
          "metadata": {},
          "output_type": "execute_result"
        }
      ],
      "source": [
        "# 1.3 Add include='all' to select all columns\n",
        "df.describe(include='all')"
      ],
      "id": "96776fc5"
    },
    {
      "cell_type": "code",
      "execution_count": null,
      "metadata": {
        "colab": {
          "base_uri": "https://localhost:8080/"
        },
        "id": "4c8f8717",
        "outputId": "6b75c929-b655-40aa-f5e0-d9372041d6f7",
        "scrolled": false
      },
      "outputs": [
        {
          "name": "stdout",
          "output_type": "stream",
          "text": [
            "Pclass\n",
            "3         633\n",
            "1         286\n",
            "2         252\n",
            "dtype: int64\n",
            "+-----------------------+\n",
            "Sex   \n",
            "male      755\n",
            "female    416\n",
            "dtype: int64\n",
            "+-----------------------+\n",
            "Embarked\n",
            "S           810\n",
            "C           249\n",
            "Q           112\n",
            "dtype: int64\n",
            "+-----------------------+\n",
            "Survived\n",
            "no          731\n",
            "yes         440\n",
            "dtype: int64\n"
          ]
        }
      ],
      "source": [
        "# 1.4 Using value_counts function to count frequency in categorical column\n",
        "print(df[['Pclass']].value_counts(sort=True))\n",
        "print('+-----------------------+')\n",
        "print(df[['Sex']].value_counts(sort=True))\n",
        "print('+-----------------------+')\n",
        "print(df[['Embarked']].value_counts(sort=True))\n",
        "print('+-----------------------+')\n",
        "print(df[['Survived']].value_counts(sort=True))"
      ],
      "id": "4c8f8717"
    },
    {
      "cell_type": "code",
      "execution_count": null,
      "metadata": {
        "colab": {
          "base_uri": "https://localhost:8080/",
          "height": 300
        },
        "id": "c0fdaa8d",
        "outputId": "c1874733-72a8-4dfd-a7d6-74cefc0cf182"
      },
      "outputs": [
        {
          "data": {
            "text/html": [
              "\n",
              "  <div id=\"df-f4a4b3c7-e991-440a-900b-ac485a6d28dd\">\n",
              "    <div class=\"colab-df-container\">\n",
              "      <div>\n",
              "<style scoped>\n",
              "    .dataframe tbody tr th:only-of-type {\n",
              "        vertical-align: middle;\n",
              "    }\n",
              "\n",
              "    .dataframe tbody tr th {\n",
              "        vertical-align: top;\n",
              "    }\n",
              "\n",
              "    .dataframe thead th {\n",
              "        text-align: right;\n",
              "    }\n",
              "</style>\n",
              "<table border=\"1\" class=\"dataframe\">\n",
              "  <thead>\n",
              "    <tr style=\"text-align: right;\">\n",
              "      <th></th>\n",
              "      <th>Age</th>\n",
              "      <th>SibSp</th>\n",
              "      <th>Parch</th>\n",
              "      <th>Fare</th>\n",
              "    </tr>\n",
              "  </thead>\n",
              "  <tbody>\n",
              "    <tr>\n",
              "      <th>count</th>\n",
              "      <td>894.000000</td>\n",
              "      <td>1171.000000</td>\n",
              "      <td>1171.000000</td>\n",
              "      <td>1170.000000</td>\n",
              "    </tr>\n",
              "    <tr>\n",
              "      <th>mean</th>\n",
              "      <td>29.772931</td>\n",
              "      <td>0.495303</td>\n",
              "      <td>0.395389</td>\n",
              "      <td>33.318457</td>\n",
              "    </tr>\n",
              "    <tr>\n",
              "      <th>std</th>\n",
              "      <td>13.777341</td>\n",
              "      <td>1.014731</td>\n",
              "      <td>0.891525</td>\n",
              "      <td>52.795374</td>\n",
              "    </tr>\n",
              "    <tr>\n",
              "      <th>min</th>\n",
              "      <td>1.000000</td>\n",
              "      <td>0.000000</td>\n",
              "      <td>0.000000</td>\n",
              "      <td>0.000000</td>\n",
              "    </tr>\n",
              "    <tr>\n",
              "      <th>25%</th>\n",
              "      <td>21.000000</td>\n",
              "      <td>0.000000</td>\n",
              "      <td>0.000000</td>\n",
              "      <td>7.895800</td>\n",
              "    </tr>\n",
              "    <tr>\n",
              "      <th>50%</th>\n",
              "      <td>28.000000</td>\n",
              "      <td>0.000000</td>\n",
              "      <td>0.000000</td>\n",
              "      <td>14.454200</td>\n",
              "    </tr>\n",
              "    <tr>\n",
              "      <th>75%</th>\n",
              "      <td>39.000000</td>\n",
              "      <td>1.000000</td>\n",
              "      <td>0.000000</td>\n",
              "      <td>31.275000</td>\n",
              "    </tr>\n",
              "    <tr>\n",
              "      <th>max</th>\n",
              "      <td>70.000000</td>\n",
              "      <td>8.000000</td>\n",
              "      <td>9.000000</td>\n",
              "      <td>512.329200</td>\n",
              "    </tr>\n",
              "  </tbody>\n",
              "</table>\n",
              "</div>\n",
              "      <button class=\"colab-df-convert\" onclick=\"convertToInteractive('df-f4a4b3c7-e991-440a-900b-ac485a6d28dd')\"\n",
              "              title=\"Convert this dataframe to an interactive table.\"\n",
              "              style=\"display:none;\">\n",
              "        \n",
              "  <svg xmlns=\"http://www.w3.org/2000/svg\" height=\"24px\"viewBox=\"0 0 24 24\"\n",
              "       width=\"24px\">\n",
              "    <path d=\"M0 0h24v24H0V0z\" fill=\"none\"/>\n",
              "    <path d=\"M18.56 5.44l.94 2.06.94-2.06 2.06-.94-2.06-.94-.94-2.06-.94 2.06-2.06.94zm-11 1L8.5 8.5l.94-2.06 2.06-.94-2.06-.94L8.5 2.5l-.94 2.06-2.06.94zm10 10l.94 2.06.94-2.06 2.06-.94-2.06-.94-.94-2.06-.94 2.06-2.06.94z\"/><path d=\"M17.41 7.96l-1.37-1.37c-.4-.4-.92-.59-1.43-.59-.52 0-1.04.2-1.43.59L10.3 9.45l-7.72 7.72c-.78.78-.78 2.05 0 2.83L4 21.41c.39.39.9.59 1.41.59.51 0 1.02-.2 1.41-.59l7.78-7.78 2.81-2.81c.8-.78.8-2.07 0-2.86zM5.41 20L4 18.59l7.72-7.72 1.47 1.35L5.41 20z\"/>\n",
              "  </svg>\n",
              "      </button>\n",
              "      \n",
              "  <style>\n",
              "    .colab-df-container {\n",
              "      display:flex;\n",
              "      flex-wrap:wrap;\n",
              "      gap: 12px;\n",
              "    }\n",
              "\n",
              "    .colab-df-convert {\n",
              "      background-color: #E8F0FE;\n",
              "      border: none;\n",
              "      border-radius: 50%;\n",
              "      cursor: pointer;\n",
              "      display: none;\n",
              "      fill: #1967D2;\n",
              "      height: 32px;\n",
              "      padding: 0 0 0 0;\n",
              "      width: 32px;\n",
              "    }\n",
              "\n",
              "    .colab-df-convert:hover {\n",
              "      background-color: #E2EBFA;\n",
              "      box-shadow: 0px 1px 2px rgba(60, 64, 67, 0.3), 0px 1px 3px 1px rgba(60, 64, 67, 0.15);\n",
              "      fill: #174EA6;\n",
              "    }\n",
              "\n",
              "    [theme=dark] .colab-df-convert {\n",
              "      background-color: #3B4455;\n",
              "      fill: #D2E3FC;\n",
              "    }\n",
              "\n",
              "    [theme=dark] .colab-df-convert:hover {\n",
              "      background-color: #434B5C;\n",
              "      box-shadow: 0px 1px 3px 1px rgba(0, 0, 0, 0.15);\n",
              "      filter: drop-shadow(0px 1px 2px rgba(0, 0, 0, 0.3));\n",
              "      fill: #FFFFFF;\n",
              "    }\n",
              "  </style>\n",
              "\n",
              "      <script>\n",
              "        const buttonEl =\n",
              "          document.querySelector('#df-f4a4b3c7-e991-440a-900b-ac485a6d28dd button.colab-df-convert');\n",
              "        buttonEl.style.display =\n",
              "          google.colab.kernel.accessAllowed ? 'block' : 'none';\n",
              "\n",
              "        async function convertToInteractive(key) {\n",
              "          const element = document.querySelector('#df-f4a4b3c7-e991-440a-900b-ac485a6d28dd');\n",
              "          const dataTable =\n",
              "            await google.colab.kernel.invokeFunction('convertToInteractive',\n",
              "                                                     [key], {});\n",
              "          if (!dataTable) return;\n",
              "\n",
              "          const docLinkHtml = 'Like what you see? Visit the ' +\n",
              "            '<a target=\"_blank\" href=https://colab.research.google.com/notebooks/data_table.ipynb>data table notebook</a>'\n",
              "            + ' to learn more about interactive tables.';\n",
              "          element.innerHTML = '';\n",
              "          dataTable['output_type'] = 'display_data';\n",
              "          await google.colab.output.renderOutput(dataTable, element);\n",
              "          const docLink = document.createElement('div');\n",
              "          docLink.innerHTML = docLinkHtml;\n",
              "          element.appendChild(docLink);\n",
              "        }\n",
              "      </script>\n",
              "    </div>\n",
              "  </div>\n",
              "  "
            ],
            "text/plain": [
              "              Age        SibSp        Parch         Fare\n",
              "count  894.000000  1171.000000  1171.000000  1170.000000\n",
              "mean    29.772931     0.495303     0.395389    33.318457\n",
              "std     13.777341     1.014731     0.891525    52.795374\n",
              "min      1.000000     0.000000     0.000000     0.000000\n",
              "25%     21.000000     0.000000     0.000000     7.895800\n",
              "50%     28.000000     0.000000     0.000000    14.454200\n",
              "75%     39.000000     1.000000     0.000000    31.275000\n",
              "max     70.000000     8.000000     9.000000   512.329200"
            ]
          },
          "execution_count": 12,
          "metadata": {},
          "output_type": "execute_result"
        }
      ],
      "source": [
        "# Tips: row,column\n",
        "df[['Age','SibSp','Parch','Fare']].describe()\n",
        "#df.loc[:,['Age','SibSp','Parch','Fare']].describe()\n",
        "#df.iloc[:,[2,3,4,5]].describe()"
      ],
      "id": "c0fdaa8d"
    },
    {
      "cell_type": "markdown",
      "metadata": {
        "id": "7e572644"
      },
      "source": [
        "# 2. Data preprocessing"
      ],
      "id": "7e572644"
    },
    {
      "cell_type": "markdown",
      "metadata": {
        "id": "5821cf1e"
      },
      "source": [
        "key function: pd.dropma() unique(); LabelEncoder(); pd.get_dummies"
      ],
      "id": "5821cf1e"
    },
    {
      "cell_type": "code",
      "execution_count": null,
      "metadata": {
        "colab": {
          "base_uri": "https://localhost:8080/",
          "height": 424
        },
        "id": "706b48f2",
        "outputId": "f319595a-f3e3-4ae5-b445-92069de14e17"
      },
      "outputs": [
        {
          "data": {
            "text/html": [
              "\n",
              "  <div id=\"df-e5e445dc-80c9-44b1-b81e-177b469f9f36\">\n",
              "    <div class=\"colab-df-container\">\n",
              "      <div>\n",
              "<style scoped>\n",
              "    .dataframe tbody tr th:only-of-type {\n",
              "        vertical-align: middle;\n",
              "    }\n",
              "\n",
              "    .dataframe tbody tr th {\n",
              "        vertical-align: top;\n",
              "    }\n",
              "\n",
              "    .dataframe thead th {\n",
              "        text-align: right;\n",
              "    }\n",
              "</style>\n",
              "<table border=\"1\" class=\"dataframe\">\n",
              "  <thead>\n",
              "    <tr style=\"text-align: right;\">\n",
              "      <th></th>\n",
              "      <th>Pclass</th>\n",
              "      <th>Sex</th>\n",
              "      <th>Age</th>\n",
              "      <th>SibSp</th>\n",
              "      <th>Parch</th>\n",
              "      <th>Fare</th>\n",
              "      <th>Embarked</th>\n",
              "      <th>Survived</th>\n",
              "    </tr>\n",
              "  </thead>\n",
              "  <tbody>\n",
              "    <tr>\n",
              "      <th>0</th>\n",
              "      <td>1</td>\n",
              "      <td>male</td>\n",
              "      <td>49.0</td>\n",
              "      <td>0</td>\n",
              "      <td>0</td>\n",
              "      <td>26.0000</td>\n",
              "      <td>S</td>\n",
              "      <td>no</td>\n",
              "    </tr>\n",
              "    <tr>\n",
              "      <th>1</th>\n",
              "      <td>1</td>\n",
              "      <td>male</td>\n",
              "      <td>47.0</td>\n",
              "      <td>0</td>\n",
              "      <td>0</td>\n",
              "      <td>38.5000</td>\n",
              "      <td>S</td>\n",
              "      <td>no</td>\n",
              "    </tr>\n",
              "    <tr>\n",
              "      <th>2</th>\n",
              "      <td>3</td>\n",
              "      <td>male</td>\n",
              "      <td>24.0</td>\n",
              "      <td>0</td>\n",
              "      <td>0</td>\n",
              "      <td>7.1417</td>\n",
              "      <td>S</td>\n",
              "      <td>yes</td>\n",
              "    </tr>\n",
              "    <tr>\n",
              "      <th>4</th>\n",
              "      <td>3</td>\n",
              "      <td>male</td>\n",
              "      <td>28.0</td>\n",
              "      <td>0</td>\n",
              "      <td>0</td>\n",
              "      <td>8.0500</td>\n",
              "      <td>S</td>\n",
              "      <td>yes</td>\n",
              "    </tr>\n",
              "    <tr>\n",
              "      <th>5</th>\n",
              "      <td>2</td>\n",
              "      <td>female</td>\n",
              "      <td>7.0</td>\n",
              "      <td>0</td>\n",
              "      <td>2</td>\n",
              "      <td>26.2500</td>\n",
              "      <td>S</td>\n",
              "      <td>yes</td>\n",
              "    </tr>\n",
              "    <tr>\n",
              "      <th>...</th>\n",
              "      <td>...</td>\n",
              "      <td>...</td>\n",
              "      <td>...</td>\n",
              "      <td>...</td>\n",
              "      <td>...</td>\n",
              "      <td>...</td>\n",
              "      <td>...</td>\n",
              "      <td>...</td>\n",
              "    </tr>\n",
              "    <tr>\n",
              "      <th>1162</th>\n",
              "      <td>3</td>\n",
              "      <td>male</td>\n",
              "      <td>17.0</td>\n",
              "      <td>0</td>\n",
              "      <td>0</td>\n",
              "      <td>7.1250</td>\n",
              "      <td>S</td>\n",
              "      <td>no</td>\n",
              "    </tr>\n",
              "    <tr>\n",
              "      <th>1164</th>\n",
              "      <td>3</td>\n",
              "      <td>male</td>\n",
              "      <td>24.0</td>\n",
              "      <td>0</td>\n",
              "      <td>0</td>\n",
              "      <td>7.2500</td>\n",
              "      <td>Q</td>\n",
              "      <td>yes</td>\n",
              "    </tr>\n",
              "    <tr>\n",
              "      <th>1165</th>\n",
              "      <td>3</td>\n",
              "      <td>male</td>\n",
              "      <td>40.0</td>\n",
              "      <td>1</td>\n",
              "      <td>4</td>\n",
              "      <td>27.9000</td>\n",
              "      <td>S</td>\n",
              "      <td>no</td>\n",
              "    </tr>\n",
              "    <tr>\n",
              "      <th>1166</th>\n",
              "      <td>1</td>\n",
              "      <td>female</td>\n",
              "      <td>33.0</td>\n",
              "      <td>0</td>\n",
              "      <td>0</td>\n",
              "      <td>27.7208</td>\n",
              "      <td>C</td>\n",
              "      <td>no</td>\n",
              "    </tr>\n",
              "    <tr>\n",
              "      <th>1168</th>\n",
              "      <td>1</td>\n",
              "      <td>female</td>\n",
              "      <td>50.0</td>\n",
              "      <td>0</td>\n",
              "      <td>1</td>\n",
              "      <td>247.5208</td>\n",
              "      <td>C</td>\n",
              "      <td>yes</td>\n",
              "    </tr>\n",
              "  </tbody>\n",
              "</table>\n",
              "<p>894 rows × 8 columns</p>\n",
              "</div>\n",
              "      <button class=\"colab-df-convert\" onclick=\"convertToInteractive('df-e5e445dc-80c9-44b1-b81e-177b469f9f36')\"\n",
              "              title=\"Convert this dataframe to an interactive table.\"\n",
              "              style=\"display:none;\">\n",
              "        \n",
              "  <svg xmlns=\"http://www.w3.org/2000/svg\" height=\"24px\"viewBox=\"0 0 24 24\"\n",
              "       width=\"24px\">\n",
              "    <path d=\"M0 0h24v24H0V0z\" fill=\"none\"/>\n",
              "    <path d=\"M18.56 5.44l.94 2.06.94-2.06 2.06-.94-2.06-.94-.94-2.06-.94 2.06-2.06.94zm-11 1L8.5 8.5l.94-2.06 2.06-.94-2.06-.94L8.5 2.5l-.94 2.06-2.06.94zm10 10l.94 2.06.94-2.06 2.06-.94-2.06-.94-.94-2.06-.94 2.06-2.06.94z\"/><path d=\"M17.41 7.96l-1.37-1.37c-.4-.4-.92-.59-1.43-.59-.52 0-1.04.2-1.43.59L10.3 9.45l-7.72 7.72c-.78.78-.78 2.05 0 2.83L4 21.41c.39.39.9.59 1.41.59.51 0 1.02-.2 1.41-.59l7.78-7.78 2.81-2.81c.8-.78.8-2.07 0-2.86zM5.41 20L4 18.59l7.72-7.72 1.47 1.35L5.41 20z\"/>\n",
              "  </svg>\n",
              "      </button>\n",
              "      \n",
              "  <style>\n",
              "    .colab-df-container {\n",
              "      display:flex;\n",
              "      flex-wrap:wrap;\n",
              "      gap: 12px;\n",
              "    }\n",
              "\n",
              "    .colab-df-convert {\n",
              "      background-color: #E8F0FE;\n",
              "      border: none;\n",
              "      border-radius: 50%;\n",
              "      cursor: pointer;\n",
              "      display: none;\n",
              "      fill: #1967D2;\n",
              "      height: 32px;\n",
              "      padding: 0 0 0 0;\n",
              "      width: 32px;\n",
              "    }\n",
              "\n",
              "    .colab-df-convert:hover {\n",
              "      background-color: #E2EBFA;\n",
              "      box-shadow: 0px 1px 2px rgba(60, 64, 67, 0.3), 0px 1px 3px 1px rgba(60, 64, 67, 0.15);\n",
              "      fill: #174EA6;\n",
              "    }\n",
              "\n",
              "    [theme=dark] .colab-df-convert {\n",
              "      background-color: #3B4455;\n",
              "      fill: #D2E3FC;\n",
              "    }\n",
              "\n",
              "    [theme=dark] .colab-df-convert:hover {\n",
              "      background-color: #434B5C;\n",
              "      box-shadow: 0px 1px 3px 1px rgba(0, 0, 0, 0.15);\n",
              "      filter: drop-shadow(0px 1px 2px rgba(0, 0, 0, 0.3));\n",
              "      fill: #FFFFFF;\n",
              "    }\n",
              "  </style>\n",
              "\n",
              "      <script>\n",
              "        const buttonEl =\n",
              "          document.querySelector('#df-e5e445dc-80c9-44b1-b81e-177b469f9f36 button.colab-df-convert');\n",
              "        buttonEl.style.display =\n",
              "          google.colab.kernel.accessAllowed ? 'block' : 'none';\n",
              "\n",
              "        async function convertToInteractive(key) {\n",
              "          const element = document.querySelector('#df-e5e445dc-80c9-44b1-b81e-177b469f9f36');\n",
              "          const dataTable =\n",
              "            await google.colab.kernel.invokeFunction('convertToInteractive',\n",
              "                                                     [key], {});\n",
              "          if (!dataTable) return;\n",
              "\n",
              "          const docLinkHtml = 'Like what you see? Visit the ' +\n",
              "            '<a target=\"_blank\" href=https://colab.research.google.com/notebooks/data_table.ipynb>data table notebook</a>'\n",
              "            + ' to learn more about interactive tables.';\n",
              "          element.innerHTML = '';\n",
              "          dataTable['output_type'] = 'display_data';\n",
              "          await google.colab.output.renderOutput(dataTable, element);\n",
              "          const docLink = document.createElement('div');\n",
              "          docLink.innerHTML = docLinkHtml;\n",
              "          element.appendChild(docLink);\n",
              "        }\n",
              "      </script>\n",
              "    </div>\n",
              "  </div>\n",
              "  "
            ],
            "text/plain": [
              "     Pclass     Sex   Age  SibSp  Parch      Fare Embarked Survived\n",
              "0         1    male  49.0      0      0   26.0000        S       no\n",
              "1         1    male  47.0      0      0   38.5000        S       no\n",
              "2         3    male  24.0      0      0    7.1417        S      yes\n",
              "4         3    male  28.0      0      0    8.0500        S      yes\n",
              "5         2  female   7.0      0      2   26.2500        S      yes\n",
              "...     ...     ...   ...    ...    ...       ...      ...      ...\n",
              "1162      3    male  17.0      0      0    7.1250        S       no\n",
              "1164      3    male  24.0      0      0    7.2500        Q      yes\n",
              "1165      3    male  40.0      1      4   27.9000        S       no\n",
              "1166      1  female  33.0      0      0   27.7208        C       no\n",
              "1168      1  female  50.0      0      1  247.5208        C      yes\n",
              "\n",
              "[894 rows x 8 columns]"
            ]
          },
          "execution_count": 13,
          "metadata": {},
          "output_type": "execute_result"
        }
      ],
      "source": [
        "# 2.1 Deal with missing value by dropping it\n",
        "new_df=df.dropna(axis=0, how='any')\n",
        "new_df"
      ],
      "id": "706b48f2"
    },
    {
      "cell_type": "code",
      "execution_count": null,
      "metadata": {
        "colab": {
          "base_uri": "https://localhost:8080/",
          "height": 300
        },
        "id": "9f2cbb4f",
        "outputId": "49901b05-9c57-4bbe-bf4a-546d92fa8cca"
      },
      "outputs": [
        {
          "data": {
            "text/html": [
              "\n",
              "  <div id=\"df-51c2eefa-e57d-4dfd-8078-54c1245426c3\">\n",
              "    <div class=\"colab-df-container\">\n",
              "      <div>\n",
              "<style scoped>\n",
              "    .dataframe tbody tr th:only-of-type {\n",
              "        vertical-align: middle;\n",
              "    }\n",
              "\n",
              "    .dataframe tbody tr th {\n",
              "        vertical-align: top;\n",
              "    }\n",
              "\n",
              "    .dataframe thead th {\n",
              "        text-align: right;\n",
              "    }\n",
              "</style>\n",
              "<table border=\"1\" class=\"dataframe\">\n",
              "  <thead>\n",
              "    <tr style=\"text-align: right;\">\n",
              "      <th></th>\n",
              "      <th>Age</th>\n",
              "      <th>SibSp</th>\n",
              "      <th>Parch</th>\n",
              "      <th>Fare</th>\n",
              "    </tr>\n",
              "  </thead>\n",
              "  <tbody>\n",
              "    <tr>\n",
              "      <th>count</th>\n",
              "      <td>894.000000</td>\n",
              "      <td>894.000000</td>\n",
              "      <td>894.000000</td>\n",
              "      <td>894.000000</td>\n",
              "    </tr>\n",
              "    <tr>\n",
              "      <th>mean</th>\n",
              "      <td>29.772931</td>\n",
              "      <td>0.516779</td>\n",
              "      <td>0.430649</td>\n",
              "      <td>37.663063</td>\n",
              "    </tr>\n",
              "    <tr>\n",
              "      <th>std</th>\n",
              "      <td>13.777341</td>\n",
              "      <td>0.923289</td>\n",
              "      <td>0.869542</td>\n",
              "      <td>57.799309</td>\n",
              "    </tr>\n",
              "    <tr>\n",
              "      <th>min</th>\n",
              "      <td>1.000000</td>\n",
              "      <td>0.000000</td>\n",
              "      <td>0.000000</td>\n",
              "      <td>0.000000</td>\n",
              "    </tr>\n",
              "    <tr>\n",
              "      <th>25%</th>\n",
              "      <td>21.000000</td>\n",
              "      <td>0.000000</td>\n",
              "      <td>0.000000</td>\n",
              "      <td>8.050000</td>\n",
              "    </tr>\n",
              "    <tr>\n",
              "      <th>50%</th>\n",
              "      <td>28.000000</td>\n",
              "      <td>0.000000</td>\n",
              "      <td>0.000000</td>\n",
              "      <td>15.950000</td>\n",
              "    </tr>\n",
              "    <tr>\n",
              "      <th>75%</th>\n",
              "      <td>39.000000</td>\n",
              "      <td>1.000000</td>\n",
              "      <td>1.000000</td>\n",
              "      <td>37.004200</td>\n",
              "    </tr>\n",
              "    <tr>\n",
              "      <th>max</th>\n",
              "      <td>70.000000</td>\n",
              "      <td>5.000000</td>\n",
              "      <td>6.000000</td>\n",
              "      <td>512.329200</td>\n",
              "    </tr>\n",
              "  </tbody>\n",
              "</table>\n",
              "</div>\n",
              "      <button class=\"colab-df-convert\" onclick=\"convertToInteractive('df-51c2eefa-e57d-4dfd-8078-54c1245426c3')\"\n",
              "              title=\"Convert this dataframe to an interactive table.\"\n",
              "              style=\"display:none;\">\n",
              "        \n",
              "  <svg xmlns=\"http://www.w3.org/2000/svg\" height=\"24px\"viewBox=\"0 0 24 24\"\n",
              "       width=\"24px\">\n",
              "    <path d=\"M0 0h24v24H0V0z\" fill=\"none\"/>\n",
              "    <path d=\"M18.56 5.44l.94 2.06.94-2.06 2.06-.94-2.06-.94-.94-2.06-.94 2.06-2.06.94zm-11 1L8.5 8.5l.94-2.06 2.06-.94-2.06-.94L8.5 2.5l-.94 2.06-2.06.94zm10 10l.94 2.06.94-2.06 2.06-.94-2.06-.94-.94-2.06-.94 2.06-2.06.94z\"/><path d=\"M17.41 7.96l-1.37-1.37c-.4-.4-.92-.59-1.43-.59-.52 0-1.04.2-1.43.59L10.3 9.45l-7.72 7.72c-.78.78-.78 2.05 0 2.83L4 21.41c.39.39.9.59 1.41.59.51 0 1.02-.2 1.41-.59l7.78-7.78 2.81-2.81c.8-.78.8-2.07 0-2.86zM5.41 20L4 18.59l7.72-7.72 1.47 1.35L5.41 20z\"/>\n",
              "  </svg>\n",
              "      </button>\n",
              "      \n",
              "  <style>\n",
              "    .colab-df-container {\n",
              "      display:flex;\n",
              "      flex-wrap:wrap;\n",
              "      gap: 12px;\n",
              "    }\n",
              "\n",
              "    .colab-df-convert {\n",
              "      background-color: #E8F0FE;\n",
              "      border: none;\n",
              "      border-radius: 50%;\n",
              "      cursor: pointer;\n",
              "      display: none;\n",
              "      fill: #1967D2;\n",
              "      height: 32px;\n",
              "      padding: 0 0 0 0;\n",
              "      width: 32px;\n",
              "    }\n",
              "\n",
              "    .colab-df-convert:hover {\n",
              "      background-color: #E2EBFA;\n",
              "      box-shadow: 0px 1px 2px rgba(60, 64, 67, 0.3), 0px 1px 3px 1px rgba(60, 64, 67, 0.15);\n",
              "      fill: #174EA6;\n",
              "    }\n",
              "\n",
              "    [theme=dark] .colab-df-convert {\n",
              "      background-color: #3B4455;\n",
              "      fill: #D2E3FC;\n",
              "    }\n",
              "\n",
              "    [theme=dark] .colab-df-convert:hover {\n",
              "      background-color: #434B5C;\n",
              "      box-shadow: 0px 1px 3px 1px rgba(0, 0, 0, 0.15);\n",
              "      filter: drop-shadow(0px 1px 2px rgba(0, 0, 0, 0.3));\n",
              "      fill: #FFFFFF;\n",
              "    }\n",
              "  </style>\n",
              "\n",
              "      <script>\n",
              "        const buttonEl =\n",
              "          document.querySelector('#df-51c2eefa-e57d-4dfd-8078-54c1245426c3 button.colab-df-convert');\n",
              "        buttonEl.style.display =\n",
              "          google.colab.kernel.accessAllowed ? 'block' : 'none';\n",
              "\n",
              "        async function convertToInteractive(key) {\n",
              "          const element = document.querySelector('#df-51c2eefa-e57d-4dfd-8078-54c1245426c3');\n",
              "          const dataTable =\n",
              "            await google.colab.kernel.invokeFunction('convertToInteractive',\n",
              "                                                     [key], {});\n",
              "          if (!dataTable) return;\n",
              "\n",
              "          const docLinkHtml = 'Like what you see? Visit the ' +\n",
              "            '<a target=\"_blank\" href=https://colab.research.google.com/notebooks/data_table.ipynb>data table notebook</a>'\n",
              "            + ' to learn more about interactive tables.';\n",
              "          element.innerHTML = '';\n",
              "          dataTable['output_type'] = 'display_data';\n",
              "          await google.colab.output.renderOutput(dataTable, element);\n",
              "          const docLink = document.createElement('div');\n",
              "          docLink.innerHTML = docLinkHtml;\n",
              "          element.appendChild(docLink);\n",
              "        }\n",
              "      </script>\n",
              "    </div>\n",
              "  </div>\n",
              "  "
            ],
            "text/plain": [
              "              Age       SibSp       Parch        Fare\n",
              "count  894.000000  894.000000  894.000000  894.000000\n",
              "mean    29.772931    0.516779    0.430649   37.663063\n",
              "std     13.777341    0.923289    0.869542   57.799309\n",
              "min      1.000000    0.000000    0.000000    0.000000\n",
              "25%     21.000000    0.000000    0.000000    8.050000\n",
              "50%     28.000000    0.000000    0.000000   15.950000\n",
              "75%     39.000000    1.000000    1.000000   37.004200\n",
              "max     70.000000    5.000000    6.000000  512.329200"
            ]
          },
          "execution_count": 14,
          "metadata": {},
          "output_type": "execute_result"
        }
      ],
      "source": [
        "# Recheck the descriptive statistics\n",
        "new_df[['Age','SibSp','Parch','Fare']].describe()"
      ],
      "id": "9f2cbb4f"
    },
    {
      "cell_type": "code",
      "execution_count": null,
      "metadata": {
        "colab": {
          "base_uri": "https://localhost:8080/"
        },
        "id": "b7876991",
        "outputId": "045af9c6-eb0f-4221-b941-8cb3cc00cc27"
      },
      "outputs": [
        {
          "name": "stdout",
          "output_type": "stream",
          "text": [
            "Pclass\n",
            "3         416\n",
            "1         248\n",
            "2         230\n",
            "dtype: int64\n",
            "+-----------------------+\n",
            "Sex   \n",
            "male      555\n",
            "female    339\n",
            "dtype: int64\n",
            "+-----------------------+\n",
            "Embarked\n",
            "S           671\n",
            "C           182\n",
            "Q            41\n",
            "dtype: int64\n",
            "+-----------------------+\n",
            "Survived\n",
            "no          539\n",
            "yes         355\n",
            "dtype: int64\n"
          ]
        }
      ],
      "source": [
        "# Recheck the descriptive statistics\n",
        "print(new_df[['Pclass']].value_counts(sort=True))\n",
        "print('+-----------------------+')\n",
        "print(new_df[['Sex']].value_counts(sort=True))\n",
        "print('+-----------------------+')\n",
        "print(new_df[['Embarked']].value_counts(sort=True))\n",
        "print('+-----------------------+')\n",
        "print(new_df[['Survived']].value_counts(sort=True))"
      ],
      "id": "b7876991"
    },
    {
      "cell_type": "code",
      "execution_count": null,
      "metadata": {
        "colab": {
          "base_uri": "https://localhost:8080/"
        },
        "id": "e2873e6c",
        "outputId": "5fcb1b0c-2e93-433d-ebc3-4b878d660c0b"
      },
      "outputs": [
        {
          "name": "stdout",
          "output_type": "stream",
          "text": [
            "Pclass ['1' '3' '2']\n",
            "Sex ['male' 'female']\n",
            "Embarked ['S' 'C' 'Q']\n",
            "Survived ['no' 'yes']\n"
          ]
        }
      ],
      "source": [
        "# 2.2 Using unique function to check category label\n",
        "print('Pclass',new_df['Pclass'].unique())\n",
        "print('Sex',new_df['Sex'].unique())\n",
        "print('Embarked',new_df['Embarked'].unique())\n",
        "print('Survived',new_df['Survived'].unique())"
      ],
      "id": "e2873e6c"
    },
    {
      "cell_type": "code",
      "execution_count": null,
      "metadata": {
        "colab": {
          "base_uri": "https://localhost:8080/",
          "height": 424
        },
        "id": "4eed8d34",
        "outputId": "549f6adf-998b-4f63-f978-94c300bb21db",
        "scrolled": false
      },
      "outputs": [
        {
          "data": {
            "text/html": [
              "\n",
              "  <div id=\"df-9ee67f95-4065-47b4-b2ee-43c7960cdf7e\">\n",
              "    <div class=\"colab-df-container\">\n",
              "      <div>\n",
              "<style scoped>\n",
              "    .dataframe tbody tr th:only-of-type {\n",
              "        vertical-align: middle;\n",
              "    }\n",
              "\n",
              "    .dataframe tbody tr th {\n",
              "        vertical-align: top;\n",
              "    }\n",
              "\n",
              "    .dataframe thead th {\n",
              "        text-align: right;\n",
              "    }\n",
              "</style>\n",
              "<table border=\"1\" class=\"dataframe\">\n",
              "  <thead>\n",
              "    <tr style=\"text-align: right;\">\n",
              "      <th></th>\n",
              "      <th>Age</th>\n",
              "      <th>SibSp</th>\n",
              "      <th>Parch</th>\n",
              "      <th>Fare</th>\n",
              "      <th>Pclass_1</th>\n",
              "      <th>Pclass_2</th>\n",
              "      <th>Pclass_3</th>\n",
              "      <th>Sex_female</th>\n",
              "      <th>Sex_male</th>\n",
              "      <th>Embarked_C</th>\n",
              "      <th>Embarked_Q</th>\n",
              "      <th>Embarked_S</th>\n",
              "      <th>Survived_no</th>\n",
              "      <th>Survived_yes</th>\n",
              "    </tr>\n",
              "  </thead>\n",
              "  <tbody>\n",
              "    <tr>\n",
              "      <th>0</th>\n",
              "      <td>49.0</td>\n",
              "      <td>0</td>\n",
              "      <td>0</td>\n",
              "      <td>26.0000</td>\n",
              "      <td>1</td>\n",
              "      <td>0</td>\n",
              "      <td>0</td>\n",
              "      <td>0</td>\n",
              "      <td>1</td>\n",
              "      <td>0</td>\n",
              "      <td>0</td>\n",
              "      <td>1</td>\n",
              "      <td>1</td>\n",
              "      <td>0</td>\n",
              "    </tr>\n",
              "    <tr>\n",
              "      <th>1</th>\n",
              "      <td>47.0</td>\n",
              "      <td>0</td>\n",
              "      <td>0</td>\n",
              "      <td>38.5000</td>\n",
              "      <td>1</td>\n",
              "      <td>0</td>\n",
              "      <td>0</td>\n",
              "      <td>0</td>\n",
              "      <td>1</td>\n",
              "      <td>0</td>\n",
              "      <td>0</td>\n",
              "      <td>1</td>\n",
              "      <td>1</td>\n",
              "      <td>0</td>\n",
              "    </tr>\n",
              "    <tr>\n",
              "      <th>2</th>\n",
              "      <td>24.0</td>\n",
              "      <td>0</td>\n",
              "      <td>0</td>\n",
              "      <td>7.1417</td>\n",
              "      <td>0</td>\n",
              "      <td>0</td>\n",
              "      <td>1</td>\n",
              "      <td>0</td>\n",
              "      <td>1</td>\n",
              "      <td>0</td>\n",
              "      <td>0</td>\n",
              "      <td>1</td>\n",
              "      <td>0</td>\n",
              "      <td>1</td>\n",
              "    </tr>\n",
              "    <tr>\n",
              "      <th>4</th>\n",
              "      <td>28.0</td>\n",
              "      <td>0</td>\n",
              "      <td>0</td>\n",
              "      <td>8.0500</td>\n",
              "      <td>0</td>\n",
              "      <td>0</td>\n",
              "      <td>1</td>\n",
              "      <td>0</td>\n",
              "      <td>1</td>\n",
              "      <td>0</td>\n",
              "      <td>0</td>\n",
              "      <td>1</td>\n",
              "      <td>0</td>\n",
              "      <td>1</td>\n",
              "    </tr>\n",
              "    <tr>\n",
              "      <th>5</th>\n",
              "      <td>7.0</td>\n",
              "      <td>0</td>\n",
              "      <td>2</td>\n",
              "      <td>26.2500</td>\n",
              "      <td>0</td>\n",
              "      <td>1</td>\n",
              "      <td>0</td>\n",
              "      <td>1</td>\n",
              "      <td>0</td>\n",
              "      <td>0</td>\n",
              "      <td>0</td>\n",
              "      <td>1</td>\n",
              "      <td>0</td>\n",
              "      <td>1</td>\n",
              "    </tr>\n",
              "    <tr>\n",
              "      <th>...</th>\n",
              "      <td>...</td>\n",
              "      <td>...</td>\n",
              "      <td>...</td>\n",
              "      <td>...</td>\n",
              "      <td>...</td>\n",
              "      <td>...</td>\n",
              "      <td>...</td>\n",
              "      <td>...</td>\n",
              "      <td>...</td>\n",
              "      <td>...</td>\n",
              "      <td>...</td>\n",
              "      <td>...</td>\n",
              "      <td>...</td>\n",
              "      <td>...</td>\n",
              "    </tr>\n",
              "    <tr>\n",
              "      <th>1162</th>\n",
              "      <td>17.0</td>\n",
              "      <td>0</td>\n",
              "      <td>0</td>\n",
              "      <td>7.1250</td>\n",
              "      <td>0</td>\n",
              "      <td>0</td>\n",
              "      <td>1</td>\n",
              "      <td>0</td>\n",
              "      <td>1</td>\n",
              "      <td>0</td>\n",
              "      <td>0</td>\n",
              "      <td>1</td>\n",
              "      <td>1</td>\n",
              "      <td>0</td>\n",
              "    </tr>\n",
              "    <tr>\n",
              "      <th>1164</th>\n",
              "      <td>24.0</td>\n",
              "      <td>0</td>\n",
              "      <td>0</td>\n",
              "      <td>7.2500</td>\n",
              "      <td>0</td>\n",
              "      <td>0</td>\n",
              "      <td>1</td>\n",
              "      <td>0</td>\n",
              "      <td>1</td>\n",
              "      <td>0</td>\n",
              "      <td>1</td>\n",
              "      <td>0</td>\n",
              "      <td>0</td>\n",
              "      <td>1</td>\n",
              "    </tr>\n",
              "    <tr>\n",
              "      <th>1165</th>\n",
              "      <td>40.0</td>\n",
              "      <td>1</td>\n",
              "      <td>4</td>\n",
              "      <td>27.9000</td>\n",
              "      <td>0</td>\n",
              "      <td>0</td>\n",
              "      <td>1</td>\n",
              "      <td>0</td>\n",
              "      <td>1</td>\n",
              "      <td>0</td>\n",
              "      <td>0</td>\n",
              "      <td>1</td>\n",
              "      <td>1</td>\n",
              "      <td>0</td>\n",
              "    </tr>\n",
              "    <tr>\n",
              "      <th>1166</th>\n",
              "      <td>33.0</td>\n",
              "      <td>0</td>\n",
              "      <td>0</td>\n",
              "      <td>27.7208</td>\n",
              "      <td>1</td>\n",
              "      <td>0</td>\n",
              "      <td>0</td>\n",
              "      <td>1</td>\n",
              "      <td>0</td>\n",
              "      <td>1</td>\n",
              "      <td>0</td>\n",
              "      <td>0</td>\n",
              "      <td>1</td>\n",
              "      <td>0</td>\n",
              "    </tr>\n",
              "    <tr>\n",
              "      <th>1168</th>\n",
              "      <td>50.0</td>\n",
              "      <td>0</td>\n",
              "      <td>1</td>\n",
              "      <td>247.5208</td>\n",
              "      <td>1</td>\n",
              "      <td>0</td>\n",
              "      <td>0</td>\n",
              "      <td>1</td>\n",
              "      <td>0</td>\n",
              "      <td>1</td>\n",
              "      <td>0</td>\n",
              "      <td>0</td>\n",
              "      <td>0</td>\n",
              "      <td>1</td>\n",
              "    </tr>\n",
              "  </tbody>\n",
              "</table>\n",
              "<p>894 rows × 14 columns</p>\n",
              "</div>\n",
              "      <button class=\"colab-df-convert\" onclick=\"convertToInteractive('df-9ee67f95-4065-47b4-b2ee-43c7960cdf7e')\"\n",
              "              title=\"Convert this dataframe to an interactive table.\"\n",
              "              style=\"display:none;\">\n",
              "        \n",
              "  <svg xmlns=\"http://www.w3.org/2000/svg\" height=\"24px\"viewBox=\"0 0 24 24\"\n",
              "       width=\"24px\">\n",
              "    <path d=\"M0 0h24v24H0V0z\" fill=\"none\"/>\n",
              "    <path d=\"M18.56 5.44l.94 2.06.94-2.06 2.06-.94-2.06-.94-.94-2.06-.94 2.06-2.06.94zm-11 1L8.5 8.5l.94-2.06 2.06-.94-2.06-.94L8.5 2.5l-.94 2.06-2.06.94zm10 10l.94 2.06.94-2.06 2.06-.94-2.06-.94-.94-2.06-.94 2.06-2.06.94z\"/><path d=\"M17.41 7.96l-1.37-1.37c-.4-.4-.92-.59-1.43-.59-.52 0-1.04.2-1.43.59L10.3 9.45l-7.72 7.72c-.78.78-.78 2.05 0 2.83L4 21.41c.39.39.9.59 1.41.59.51 0 1.02-.2 1.41-.59l7.78-7.78 2.81-2.81c.8-.78.8-2.07 0-2.86zM5.41 20L4 18.59l7.72-7.72 1.47 1.35L5.41 20z\"/>\n",
              "  </svg>\n",
              "      </button>\n",
              "      \n",
              "  <style>\n",
              "    .colab-df-container {\n",
              "      display:flex;\n",
              "      flex-wrap:wrap;\n",
              "      gap: 12px;\n",
              "    }\n",
              "\n",
              "    .colab-df-convert {\n",
              "      background-color: #E8F0FE;\n",
              "      border: none;\n",
              "      border-radius: 50%;\n",
              "      cursor: pointer;\n",
              "      display: none;\n",
              "      fill: #1967D2;\n",
              "      height: 32px;\n",
              "      padding: 0 0 0 0;\n",
              "      width: 32px;\n",
              "    }\n",
              "\n",
              "    .colab-df-convert:hover {\n",
              "      background-color: #E2EBFA;\n",
              "      box-shadow: 0px 1px 2px rgba(60, 64, 67, 0.3), 0px 1px 3px 1px rgba(60, 64, 67, 0.15);\n",
              "      fill: #174EA6;\n",
              "    }\n",
              "\n",
              "    [theme=dark] .colab-df-convert {\n",
              "      background-color: #3B4455;\n",
              "      fill: #D2E3FC;\n",
              "    }\n",
              "\n",
              "    [theme=dark] .colab-df-convert:hover {\n",
              "      background-color: #434B5C;\n",
              "      box-shadow: 0px 1px 3px 1px rgba(0, 0, 0, 0.15);\n",
              "      filter: drop-shadow(0px 1px 2px rgba(0, 0, 0, 0.3));\n",
              "      fill: #FFFFFF;\n",
              "    }\n",
              "  </style>\n",
              "\n",
              "      <script>\n",
              "        const buttonEl =\n",
              "          document.querySelector('#df-9ee67f95-4065-47b4-b2ee-43c7960cdf7e button.colab-df-convert');\n",
              "        buttonEl.style.display =\n",
              "          google.colab.kernel.accessAllowed ? 'block' : 'none';\n",
              "\n",
              "        async function convertToInteractive(key) {\n",
              "          const element = document.querySelector('#df-9ee67f95-4065-47b4-b2ee-43c7960cdf7e');\n",
              "          const dataTable =\n",
              "            await google.colab.kernel.invokeFunction('convertToInteractive',\n",
              "                                                     [key], {});\n",
              "          if (!dataTable) return;\n",
              "\n",
              "          const docLinkHtml = 'Like what you see? Visit the ' +\n",
              "            '<a target=\"_blank\" href=https://colab.research.google.com/notebooks/data_table.ipynb>data table notebook</a>'\n",
              "            + ' to learn more about interactive tables.';\n",
              "          element.innerHTML = '';\n",
              "          dataTable['output_type'] = 'display_data';\n",
              "          await google.colab.output.renderOutput(dataTable, element);\n",
              "          const docLink = document.createElement('div');\n",
              "          docLink.innerHTML = docLinkHtml;\n",
              "          element.appendChild(docLink);\n",
              "        }\n",
              "      </script>\n",
              "    </div>\n",
              "  </div>\n",
              "  "
            ],
            "text/plain": [
              "       Age  SibSp  Parch      Fare  Pclass_1  Pclass_2  Pclass_3  Sex_female  \\\n",
              "0     49.0      0      0   26.0000         1         0         0           0   \n",
              "1     47.0      0      0   38.5000         1         0         0           0   \n",
              "2     24.0      0      0    7.1417         0         0         1           0   \n",
              "4     28.0      0      0    8.0500         0         0         1           0   \n",
              "5      7.0      0      2   26.2500         0         1         0           1   \n",
              "...    ...    ...    ...       ...       ...       ...       ...         ...   \n",
              "1162  17.0      0      0    7.1250         0         0         1           0   \n",
              "1164  24.0      0      0    7.2500         0         0         1           0   \n",
              "1165  40.0      1      4   27.9000         0         0         1           0   \n",
              "1166  33.0      0      0   27.7208         1         0         0           1   \n",
              "1168  50.0      0      1  247.5208         1         0         0           1   \n",
              "\n",
              "      Sex_male  Embarked_C  Embarked_Q  Embarked_S  Survived_no  Survived_yes  \n",
              "0            1           0           0           1            1             0  \n",
              "1            1           0           0           1            1             0  \n",
              "2            1           0           0           1            0             1  \n",
              "4            1           0           0           1            0             1  \n",
              "5            0           0           0           1            0             1  \n",
              "...        ...         ...         ...         ...          ...           ...  \n",
              "1162         1           0           0           1            1             0  \n",
              "1164         1           0           1           0            0             1  \n",
              "1165         1           0           0           1            1             0  \n",
              "1166         0           1           0           0            1             0  \n",
              "1168         0           1           0           0            0             1  \n",
              "\n",
              "[894 rows x 14 columns]"
            ]
          },
          "execution_count": 17,
          "metadata": {},
          "output_type": "execute_result"
        }
      ],
      "source": [
        "#2.3 Using pd.get_dummies function to generate dummies\n",
        "dummied_new_df=pd.get_dummies(new_df,columns=['Pclass','Sex','Embarked','Survived'])\n",
        "dummied_new_df"
      ],
      "id": "4eed8d34"
    },
    {
      "cell_type": "markdown",
      "metadata": {
        "id": "8c14b854"
      },
      "source": [
        "Note: get_dummies function generates the onehotencode style dummies"
      ],
      "id": "8c14b854"
    },
    {
      "cell_type": "code",
      "execution_count": null,
      "metadata": {
        "colab": {
          "base_uri": "https://localhost:8080/"
        },
        "id": "4b7c6698",
        "outputId": "892c3fcf-cbb2-47fb-c9ad-03724c55e73e"
      },
      "outputs": [
        {
          "name": "stdout",
          "output_type": "stream",
          "text": [
            "Export complete...\n"
          ]
        }
      ],
      "source": [
        "# Export to CSV file Note: preset folder path is required\n",
        "dummied_new_df.to_csv('C:\\ML\\SVM\\Titanic_demo_deleteNA.csv',index=False, header=True)\n",
        "\n",
        "print('Export complete...')"
      ],
      "id": "4b7c6698"
    },
    {
      "cell_type": "markdown",
      "metadata": {
        "id": "7704a45d"
      },
      "source": [
        "# Addition tips for data preprocessing"
      ],
      "id": "7704a45d"
    },
    {
      "cell_type": "markdown",
      "metadata": {
        "id": "e05d3eb9"
      },
      "source": [
        "Sometimes deleting all missing value is not the only optimal option during data preprocessing, so this section provides two additional tips for dealing with missing value. 1. Find the specific data point in a column  2. Fill the missing value"
      ],
      "id": "e05d3eb9"
    },
    {
      "cell_type": "code",
      "execution_count": null,
      "metadata": {
        "colab": {
          "base_uri": "https://localhost:8080/"
        },
        "id": "c4e3d4ef",
        "outputId": "7c39676d-85b9-4c8f-b345-38d967cf1a7b",
        "scrolled": true
      },
      "outputs": [
        {
          "data": {
            "text/plain": [
              "(array([152]),)"
            ]
          },
          "execution_count": 19,
          "metadata": {},
          "output_type": "execute_result"
        }
      ],
      "source": [
        "# Tips: Find the specific data point using np.isnan function\n",
        "# Find missing value with numpy: row index\n",
        "np.where(np.isnan(df['Fare']))"
      ],
      "id": "c4e3d4ef"
    },
    {
      "cell_type": "code",
      "execution_count": null,
      "metadata": {
        "colab": {
          "base_uri": "https://localhost:8080/"
        },
        "id": "c34ef4b8",
        "outputId": "18b5cf46-86e1-43d6-d8fc-4cfd85559f30",
        "scrolled": true
      },
      "outputs": [
        {
          "data": {
            "text/plain": [
              "Pclass           1\n",
              "Sex         female\n",
              "Age           33.0\n",
              "SibSp            0\n",
              "Parch            0\n",
              "Fare        151.55\n",
              "Embarked         S\n",
              "Survived       yes\n",
              "Name: 1043, dtype: object"
            ]
          },
          "execution_count": 20,
          "metadata": {},
          "output_type": "execute_result"
        }
      ],
      "source": [
        "# Call the specific data point via row index\n",
        "df.loc[1043,:]"
      ],
      "id": "c34ef4b8"
    },
    {
      "cell_type": "code",
      "execution_count": null,
      "metadata": {
        "colab": {
          "base_uri": "https://localhost:8080/"
        },
        "id": "9b8c1201",
        "outputId": "eac1e11f-e100-4e78-b280-4e0ee3951557"
      },
      "outputs": [
        {
          "data": {
            "text/plain": [
              "(array([152]),)"
            ]
          },
          "execution_count": 21,
          "metadata": {},
          "output_type": "execute_result"
        }
      ],
      "source": [
        "# Drop via row index\n",
        "Tip_df=df.drop([1043])\n",
        "np.where(np.isnan(Tip_df['Fare']))"
      ],
      "id": "9b8c1201"
    },
    {
      "cell_type": "code",
      "execution_count": null,
      "metadata": {
        "colab": {
          "base_uri": "https://localhost:8080/"
        },
        "id": "981dbcd4",
        "outputId": "f8184a77-6648-40af-f162-782a11144142",
        "scrolled": false
      },
      "outputs": [
        {
          "name": "stdout",
          "output_type": "stream",
          "text": [
            "<class 'pandas.core.frame.DataFrame'>\n",
            "Int64Index: 1170 entries, 0 to 1170\n",
            "Data columns (total 8 columns):\n",
            " #   Column    Non-Null Count  Dtype  \n",
            "---  ------    --------------  -----  \n",
            " 0   Pclass    1170 non-null   object \n",
            " 1   Sex       1170 non-null   object \n",
            " 2   Age       893 non-null    float64\n",
            " 3   SibSp     1170 non-null   int64  \n",
            " 4   Parch     1170 non-null   int64  \n",
            " 5   Fare      1169 non-null   float64\n",
            " 6   Embarked  1170 non-null   object \n",
            " 7   Survived  1170 non-null   object \n",
            "dtypes: float64(2), int64(2), object(4)\n",
            "memory usage: 82.3+ KB\n"
          ]
        }
      ],
      "source": [
        "Tip_df.info()"
      ],
      "id": "981dbcd4"
    },
    {
      "cell_type": "code",
      "execution_count": null,
      "metadata": {
        "colab": {
          "base_uri": "https://localhost:8080/"
        },
        "id": "a9c62ee3",
        "outputId": "1a1948b7-12d6-4174-f505-bc0fdb5a7c52",
        "scrolled": true
      },
      "outputs": [
        {
          "name": "stdout",
          "output_type": "stream",
          "text": [
            "<class 'pandas.core.frame.DataFrame'>\n",
            "Int64Index: 1170 entries, 0 to 1170\n",
            "Data columns (total 8 columns):\n",
            " #   Column    Non-Null Count  Dtype  \n",
            "---  ------    --------------  -----  \n",
            " 0   Pclass    1170 non-null   object \n",
            " 1   Sex       1170 non-null   object \n",
            " 2   Age       1170 non-null   float64\n",
            " 3   SibSp     1170 non-null   int64  \n",
            " 4   Parch     1170 non-null   int64  \n",
            " 5   Fare      1169 non-null   float64\n",
            " 6   Embarked  1170 non-null   object \n",
            " 7   Survived  1170 non-null   object \n",
            "dtypes: float64(2), int64(2), object(4)\n",
            "memory usage: 82.3+ KB\n"
          ]
        }
      ],
      "source": [
        "# Tips: Deal with missing value by filling it\n",
        "Tip_df=Tip_df.fillna({'Age':round(Tip_df['Age'].mean(),0)})\n",
        "Tip_df.info()"
      ],
      "id": "a9c62ee3"
    },
    {
      "cell_type": "markdown",
      "metadata": {
        "id": "9a58f5a2"
      },
      "source": [
        "# 3. Data scaling with minimax technique"
      ],
      "id": "9a58f5a2"
    },
    {
      "cell_type": "markdown",
      "metadata": {
        "id": "74ad71c7"
      },
      "source": [
        "Key function: MinMaxScaler()"
      ],
      "id": "74ad71c7"
    },
    {
      "cell_type": "code",
      "execution_count": null,
      "metadata": {
        "colab": {
          "base_uri": "https://localhost:8080/",
          "height": 285
        },
        "id": "28140e69",
        "outputId": "f36ec4ca-0a6a-435a-987b-88dc10792b3e"
      },
      "outputs": [
        {
          "name": "stdout",
          "output_type": "stream",
          "text": [
            "Min: 1.0 , Q1: 21.0 , Q2: 28.0 , Q3: 39.0 , Max: 70.0\n",
            "IQR: 18.0 Upper: 66.0 Lower: -6.0\n"
          ]
        },
        {
          "data": {
            "text/html": [
              "\n",
              "  <div id=\"df-0ec820a2-4bf2-4a82-ac60-b7dd18130187\">\n",
              "    <div class=\"colab-df-container\">\n",
              "      <div>\n",
              "<style scoped>\n",
              "    .dataframe tbody tr th:only-of-type {\n",
              "        vertical-align: middle;\n",
              "    }\n",
              "\n",
              "    .dataframe tbody tr th {\n",
              "        vertical-align: top;\n",
              "    }\n",
              "\n",
              "    .dataframe thead th {\n",
              "        text-align: right;\n",
              "    }\n",
              "</style>\n",
              "<table border=\"1\" class=\"dataframe\">\n",
              "  <thead>\n",
              "    <tr style=\"text-align: right;\">\n",
              "      <th></th>\n",
              "      <th>Age</th>\n",
              "      <th>SibSp</th>\n",
              "      <th>Parch</th>\n",
              "      <th>Fare</th>\n",
              "      <th>Pclass_1</th>\n",
              "      <th>Pclass_2</th>\n",
              "      <th>Pclass_3</th>\n",
              "      <th>Sex_female</th>\n",
              "      <th>Sex_male</th>\n",
              "      <th>Embarked_C</th>\n",
              "      <th>Embarked_Q</th>\n",
              "      <th>Embarked_S</th>\n",
              "      <th>Survived_no</th>\n",
              "      <th>Survived_yes</th>\n",
              "    </tr>\n",
              "  </thead>\n",
              "  <tbody>\n",
              "    <tr>\n",
              "      <th>0</th>\n",
              "      <td>0.695652</td>\n",
              "      <td>0.0</td>\n",
              "      <td>0.000000</td>\n",
              "      <td>0.050749</td>\n",
              "      <td>1.0</td>\n",
              "      <td>0.0</td>\n",
              "      <td>0.0</td>\n",
              "      <td>0.0</td>\n",
              "      <td>1.0</td>\n",
              "      <td>0.0</td>\n",
              "      <td>0.0</td>\n",
              "      <td>1.0</td>\n",
              "      <td>1.0</td>\n",
              "      <td>0.0</td>\n",
              "    </tr>\n",
              "    <tr>\n",
              "      <th>1</th>\n",
              "      <td>0.666667</td>\n",
              "      <td>0.0</td>\n",
              "      <td>0.000000</td>\n",
              "      <td>0.075147</td>\n",
              "      <td>1.0</td>\n",
              "      <td>0.0</td>\n",
              "      <td>0.0</td>\n",
              "      <td>0.0</td>\n",
              "      <td>1.0</td>\n",
              "      <td>0.0</td>\n",
              "      <td>0.0</td>\n",
              "      <td>1.0</td>\n",
              "      <td>1.0</td>\n",
              "      <td>0.0</td>\n",
              "    </tr>\n",
              "    <tr>\n",
              "      <th>2</th>\n",
              "      <td>0.333333</td>\n",
              "      <td>0.0</td>\n",
              "      <td>0.000000</td>\n",
              "      <td>0.013940</td>\n",
              "      <td>0.0</td>\n",
              "      <td>0.0</td>\n",
              "      <td>1.0</td>\n",
              "      <td>0.0</td>\n",
              "      <td>1.0</td>\n",
              "      <td>0.0</td>\n",
              "      <td>0.0</td>\n",
              "      <td>1.0</td>\n",
              "      <td>0.0</td>\n",
              "      <td>1.0</td>\n",
              "    </tr>\n",
              "    <tr>\n",
              "      <th>3</th>\n",
              "      <td>0.391304</td>\n",
              "      <td>0.0</td>\n",
              "      <td>0.000000</td>\n",
              "      <td>0.015713</td>\n",
              "      <td>0.0</td>\n",
              "      <td>0.0</td>\n",
              "      <td>1.0</td>\n",
              "      <td>0.0</td>\n",
              "      <td>1.0</td>\n",
              "      <td>0.0</td>\n",
              "      <td>0.0</td>\n",
              "      <td>1.0</td>\n",
              "      <td>0.0</td>\n",
              "      <td>1.0</td>\n",
              "    </tr>\n",
              "    <tr>\n",
              "      <th>4</th>\n",
              "      <td>0.086957</td>\n",
              "      <td>0.0</td>\n",
              "      <td>0.333333</td>\n",
              "      <td>0.051237</td>\n",
              "      <td>0.0</td>\n",
              "      <td>1.0</td>\n",
              "      <td>0.0</td>\n",
              "      <td>1.0</td>\n",
              "      <td>0.0</td>\n",
              "      <td>0.0</td>\n",
              "      <td>0.0</td>\n",
              "      <td>1.0</td>\n",
              "      <td>0.0</td>\n",
              "      <td>1.0</td>\n",
              "    </tr>\n",
              "  </tbody>\n",
              "</table>\n",
              "</div>\n",
              "      <button class=\"colab-df-convert\" onclick=\"convertToInteractive('df-0ec820a2-4bf2-4a82-ac60-b7dd18130187')\"\n",
              "              title=\"Convert this dataframe to an interactive table.\"\n",
              "              style=\"display:none;\">\n",
              "        \n",
              "  <svg xmlns=\"http://www.w3.org/2000/svg\" height=\"24px\"viewBox=\"0 0 24 24\"\n",
              "       width=\"24px\">\n",
              "    <path d=\"M0 0h24v24H0V0z\" fill=\"none\"/>\n",
              "    <path d=\"M18.56 5.44l.94 2.06.94-2.06 2.06-.94-2.06-.94-.94-2.06-.94 2.06-2.06.94zm-11 1L8.5 8.5l.94-2.06 2.06-.94-2.06-.94L8.5 2.5l-.94 2.06-2.06.94zm10 10l.94 2.06.94-2.06 2.06-.94-2.06-.94-.94-2.06-.94 2.06-2.06.94z\"/><path d=\"M17.41 7.96l-1.37-1.37c-.4-.4-.92-.59-1.43-.59-.52 0-1.04.2-1.43.59L10.3 9.45l-7.72 7.72c-.78.78-.78 2.05 0 2.83L4 21.41c.39.39.9.59 1.41.59.51 0 1.02-.2 1.41-.59l7.78-7.78 2.81-2.81c.8-.78.8-2.07 0-2.86zM5.41 20L4 18.59l7.72-7.72 1.47 1.35L5.41 20z\"/>\n",
              "  </svg>\n",
              "      </button>\n",
              "      \n",
              "  <style>\n",
              "    .colab-df-container {\n",
              "      display:flex;\n",
              "      flex-wrap:wrap;\n",
              "      gap: 12px;\n",
              "    }\n",
              "\n",
              "    .colab-df-convert {\n",
              "      background-color: #E8F0FE;\n",
              "      border: none;\n",
              "      border-radius: 50%;\n",
              "      cursor: pointer;\n",
              "      display: none;\n",
              "      fill: #1967D2;\n",
              "      height: 32px;\n",
              "      padding: 0 0 0 0;\n",
              "      width: 32px;\n",
              "    }\n",
              "\n",
              "    .colab-df-convert:hover {\n",
              "      background-color: #E2EBFA;\n",
              "      box-shadow: 0px 1px 2px rgba(60, 64, 67, 0.3), 0px 1px 3px 1px rgba(60, 64, 67, 0.15);\n",
              "      fill: #174EA6;\n",
              "    }\n",
              "\n",
              "    [theme=dark] .colab-df-convert {\n",
              "      background-color: #3B4455;\n",
              "      fill: #D2E3FC;\n",
              "    }\n",
              "\n",
              "    [theme=dark] .colab-df-convert:hover {\n",
              "      background-color: #434B5C;\n",
              "      box-shadow: 0px 1px 3px 1px rgba(0, 0, 0, 0.15);\n",
              "      filter: drop-shadow(0px 1px 2px rgba(0, 0, 0, 0.3));\n",
              "      fill: #FFFFFF;\n",
              "    }\n",
              "  </style>\n",
              "\n",
              "      <script>\n",
              "        const buttonEl =\n",
              "          document.querySelector('#df-0ec820a2-4bf2-4a82-ac60-b7dd18130187 button.colab-df-convert');\n",
              "        buttonEl.style.display =\n",
              "          google.colab.kernel.accessAllowed ? 'block' : 'none';\n",
              "\n",
              "        async function convertToInteractive(key) {\n",
              "          const element = document.querySelector('#df-0ec820a2-4bf2-4a82-ac60-b7dd18130187');\n",
              "          const dataTable =\n",
              "            await google.colab.kernel.invokeFunction('convertToInteractive',\n",
              "                                                     [key], {});\n",
              "          if (!dataTable) return;\n",
              "\n",
              "          const docLinkHtml = 'Like what you see? Visit the ' +\n",
              "            '<a target=\"_blank\" href=https://colab.research.google.com/notebooks/data_table.ipynb>data table notebook</a>'\n",
              "            + ' to learn more about interactive tables.';\n",
              "          element.innerHTML = '';\n",
              "          dataTable['output_type'] = 'display_data';\n",
              "          await google.colab.output.renderOutput(dataTable, element);\n",
              "          const docLink = document.createElement('div');\n",
              "          docLink.innerHTML = docLinkHtml;\n",
              "          element.appendChild(docLink);\n",
              "        }\n",
              "      </script>\n",
              "    </div>\n",
              "  </div>\n",
              "  "
            ],
            "text/plain": [
              "        Age  SibSp     Parch      Fare  Pclass_1  Pclass_2  Pclass_3  \\\n",
              "0  0.695652    0.0  0.000000  0.050749       1.0       0.0       0.0   \n",
              "1  0.666667    0.0  0.000000  0.075147       1.0       0.0       0.0   \n",
              "2  0.333333    0.0  0.000000  0.013940       0.0       0.0       1.0   \n",
              "3  0.391304    0.0  0.000000  0.015713       0.0       0.0       1.0   \n",
              "4  0.086957    0.0  0.333333  0.051237       0.0       1.0       0.0   \n",
              "\n",
              "   Sex_female  Sex_male  Embarked_C  Embarked_Q  Embarked_S  Survived_no  \\\n",
              "0         0.0       1.0         0.0         0.0         1.0          1.0   \n",
              "1         0.0       1.0         0.0         0.0         1.0          1.0   \n",
              "2         0.0       1.0         0.0         0.0         1.0          0.0   \n",
              "3         0.0       1.0         0.0         0.0         1.0          0.0   \n",
              "4         1.0       0.0         0.0         0.0         1.0          0.0   \n",
              "\n",
              "   Survived_yes  \n",
              "0           0.0  \n",
              "1           0.0  \n",
              "2           1.0  \n",
              "3           1.0  \n",
              "4           1.0  "
            ]
          },
          "execution_count": 24,
          "metadata": {},
          "output_type": "execute_result"
        }
      ],
      "source": [
        "# get Min\n",
        "qMin=np.quantile(new_df.iloc[:,2], 0)\n",
        "# Calculate Q1\n",
        "q1 = np.quantile(new_df.iloc[:,2], 0.25)\n",
        "# Calculate Q2\n",
        "q2 = np.quantile(new_df.iloc[:,2], 0.5)\n",
        "# Calculate Q3\n",
        "q3 = np.quantile(new_df.iloc[:,2], 0.75)\n",
        "# get Max\n",
        "qMax=np.quantile(new_df.iloc[:,2], 1)\n",
        "# Calculate IQR\n",
        "iqr = q3-q1\n",
        "# Calculate upper and lower whiskers\n",
        "upper = q3+(1.5*iqr) #直接在EXCEL刪除66.0\n",
        "lower = q1-(1.5*iqr)\n",
        "print('Min:',qMin,', Q1:',q1,', Q2:',q2,', Q3:',q3,', Max:',qMax)\n",
        "print('IQR:',iqr,'Upper:',upper,'Lower:',lower)\n",
        "''' Removing the Outliers '''\n",
        "#minimax scaling\n",
        "MMscaler=MinMaxScaler(feature_range=(0, 1))\n",
        "scaling=MMscaler.fit_transform(dummied_new_df)\n",
        "scaled_data=pd.DataFrame(data=scaling)\n",
        "scaled_data.columns=dummied_new_df.columns\n",
        "#scaled_data.columns=['Age','SibsSp','Parch','Fare','Pclass_1','Pclass_2','Pclass_3','Sex_female','Sex_male','Embarked_C','Embarked_Q','Embarked_S','Survived_no','Survived_yes']\n",
        "scaled_data.head()"
      ],
      "id": "28140e69"
    },
    {
      "cell_type": "markdown",
      "metadata": {
        "id": "9a4ea15f"
      },
      "source": [
        "# 4. Set dependent variable(Y or target) & independent variable(X)"
      ],
      "id": "9a4ea15f"
    },
    {
      "cell_type": "code",
      "execution_count": null,
      "metadata": {
        "id": "b7f0aed3"
      },
      "outputs": [],
      "source": [
        "#set x (make prediction) with minimax\n",
        "scaled_x=scaled_data.drop(['Survived_no','Survived_yes'],axis=1).copy()\n",
        "\n",
        "#set y (want to predict)\n",
        "scaled_y=scaled_data['Survived_yes'].copy()\n",
        "scaled_y=scaled_y.astype(int)"
      ],
      "id": "b7f0aed3"
    },
    {
      "cell_type": "markdown",
      "metadata": {
        "id": "a11b4ed8"
      },
      "source": [
        "Note: Transforming target to integer datatype is optional"
      ],
      "id": "a11b4ed8"
    },
    {
      "cell_type": "markdown",
      "metadata": {
        "id": "6f9fce94"
      },
      "source": [
        "Note: Survived is the target variable(Y), after onehotencoding, survived has divided into two columns; the model only need one target variable, since the target of this demo is binary, so either choosing 'survived_no' or 'survived_yes' will have the same outcome. Thus this demo chooses 'suvived_yes' as the target, because 'yes' is usually labeled with 1.  "
      ],
      "id": "6f9fce94"
    },
    {
      "cell_type": "markdown",
      "metadata": {
        "id": "49200cdd"
      },
      "source": [
        "# 5. Spilt the data into training & testing set"
      ],
      "id": "49200cdd"
    },
    {
      "cell_type": "markdown",
      "metadata": {
        "id": "2e9cd99b"
      },
      "source": [
        "key function: train_test_split()"
      ],
      "id": "2e9cd99b"
    },
    {
      "cell_type": "markdown",
      "metadata": {
        "id": "4ad8a182"
      },
      "source": [
        "key parameters for train_test_spilt(): test_size; random_state"
      ],
      "id": "4ad8a182"
    },
    {
      "cell_type": "code",
      "execution_count": null,
      "metadata": {
        "id": "0a93206d"
      },
      "outputs": [],
      "source": [
        "#prepare dataset with scaling\n",
        "#Split the data (split into 80% training data & 20% testing data) (lock seed)\n",
        "scaled_x_train,scaled_x_test,scaled_y_train,scaled_y_test=train_test_split(scaled_x,scaled_y,test_size=0.2,random_state=4)"
      ],
      "id": "0a93206d"
    },
    {
      "cell_type": "code",
      "execution_count": null,
      "metadata": {
        "colab": {
          "base_uri": "https://localhost:8080/"
        },
        "id": "83cd1438",
        "outputId": "ee0bc2e3-ec94-4d79-d77f-1e0bb7b5e407"
      },
      "outputs": [
        {
          "name": "stdout",
          "output_type": "stream",
          "text": [
            "scaled_y_train: Counter({0: 429, 1: 286})\n",
            "------------------------------------\n",
            "scaled_y_test : Counter({0: 110, 1: 69})\n"
          ]
        }
      ],
      "source": [
        "from collections import Counter\n",
        "print('scaled_y_train:',Counter(scaled_y_train))\n",
        "print('------------------------------------')\n",
        "print('scaled_y_test :',Counter(scaled_y_test))"
      ],
      "id": "83cd1438"
    },
    {
      "cell_type": "markdown",
      "metadata": {
        "id": "ecacbbc7"
      },
      "source": [
        "# 6. Fit the model"
      ],
      "id": "ecacbbc7"
    },
    {
      "cell_type": "markdown",
      "metadata": {
        "id": "eb1a83d2"
      },
      "source": [
        "key function: LinearSVC(); accuracy_score(); precision_score(); f1_score(); sensitivity_score(); specificity_score(); confusion_matrix(); cross_val_score()"
      ],
      "id": "eb1a83d2"
    },
    {
      "cell_type": "code",
      "execution_count": null,
      "metadata": {
        "colab": {
          "base_uri": "https://localhost:8080/"
        },
        "id": "37609c66",
        "outputId": "cf4a8b9d-be88-4c98-b85e-e7d8bde19423"
      },
      "outputs": [
        {
          "data": {
            "text/plain": [
              "LinearSVC(dual=False, random_state=4)"
            ]
          },
          "execution_count": 28,
          "metadata": {},
          "output_type": "execute_result"
        }
      ],
      "source": [
        "# 6.1 Fit the model with LinearSVC\n",
        "model=LinearSVC(C=1.0,dual=False,random_state=4)\n",
        "model.fit(scaled_x_train,scaled_y_train)"
      ],
      "id": "37609c66"
    },
    {
      "cell_type": "code",
      "execution_count": null,
      "metadata": {
        "colab": {
          "base_uri": "https://localhost:8080/"
        },
        "id": "9afe6651",
        "outputId": "adb1ddda-bc12-4274-d847-e9b7c5e951ee"
      },
      "outputs": [
        {
          "name": "stdout",
          "output_type": "stream",
          "text": [
            "Training result:\n",
            "Training ACC: 75.8\n",
            "Training f1s: 68.26\n",
            "Training pre: 71.81\n",
            "Training sen: 65.03\n",
            "Training spe: 82.98\n",
            "\n",
            "Training confusion matrix:\n",
            "[[356  73]\n",
            " [100 186]]\n",
            "+-----------------------------------------+\n",
            "Testing result:\n",
            "Testing ACC: 78.21\n",
            "Testing f1s: 70.23\n",
            "Testing pre: 74.19\n",
            "Testing sen: 66.67\n",
            "Testing spe: 85.45\n",
            "\n",
            "Testing confusion matrix:\n",
            "[[94 16]\n",
            " [23 46]]\n"
          ]
        }
      ],
      "source": [
        "# 6.2 Show result: out-of-sample testing\n",
        "# Training result\n",
        "training_prediction=model.predict(scaled_x_train)\n",
        "# Accuracy\n",
        "training_acc=accuracy_score(scaled_y_train,training_prediction)\n",
        "# f1 score\n",
        "training_f1s=f1_score(scaled_y_train,training_prediction,pos_label=1)\n",
        "# precision\n",
        "training_pre=precision_score(scaled_y_train,training_prediction,pos_label=1)\n",
        "#sensitivity\n",
        "training_sen=sensitivity_score(scaled_y_train,training_prediction,pos_label=1)\n",
        "#specificity\n",
        "training_spe=specificity_score(scaled_y_train,training_prediction,pos_label=1)\n",
        "#confusion matrix\n",
        "training_cm=confusion_matrix(scaled_y_train,training_prediction)\n",
        "\n",
        "# Testing result\n",
        "testing_prediction=model.predict(scaled_x_test)\n",
        "testing_acc=accuracy_score(scaled_y_test,testing_prediction)\n",
        "testing_f1s=f1_score(scaled_y_test,testing_prediction,pos_label=1)\n",
        "testing_pre=precision_score(scaled_y_test,testing_prediction,pos_label=1)\n",
        "testing_sen=sensitivity_score(scaled_y_test,testing_prediction,pos_label=1)\n",
        "testing_spe=specificity_score(scaled_y_test,testing_prediction,pos_label=1)\n",
        "testing_cm=confusion_matrix(scaled_y_test,testing_prediction)\n",
        "\n",
        "# print result\n",
        "print('Training result:')\n",
        "print('Training ACC:',round(training_acc*100,2))\n",
        "print('Training f1s:',round(training_f1s*100,2))\n",
        "print('Training pre:',round(training_pre*100,2))\n",
        "print('Training sen:',round(training_sen*100,2))\n",
        "print('Training spe:',round(training_spe*100,2))\n",
        "print('')\n",
        "print('Training confusion matrix:')\n",
        "print(training_cm)\n",
        "print('+-----------------------------------------+')\n",
        "print('Testing result:')\n",
        "print('Testing ACC:',round(testing_acc*100,2))\n",
        "print('Testing f1s:',round(testing_f1s*100,2))\n",
        "print('Testing pre:',round(testing_pre*100,2))\n",
        "print('Testing sen:',round(testing_sen*100,2))\n",
        "print('Testing spe:',round(testing_spe*100,2))\n",
        "print('')\n",
        "print('Testing confusion matrix:')\n",
        "print(testing_cm)"
      ],
      "id": "9afe6651"
    },
    {
      "cell_type": "code",
      "execution_count": null,
      "metadata": {
        "colab": {
          "base_uri": "https://localhost:8080/"
        },
        "id": "9a2735db",
        "outputId": "2e7ed438-c12a-4033-e702-137735bcd7de"
      },
      "outputs": [
        {
          "name": "stdout",
          "output_type": "stream",
          "text": [
            "Each fold ACC: [0.76987448 0.77731092 0.69747899]\n",
            "Average ACC: 74.82 +/- 3.6\n"
          ]
        }
      ],
      "source": [
        "# 6.3 Perform  five fold cross validation on training data\n",
        "CV3F_acc=cross_val_score(model,scaled_x_train,scaled_y_train,cv=3,scoring='accuracy')\n",
        "print('Each fold ACC:',CV3F_acc)\n",
        "print('Average ACC:',round((np.mean(CV3F_acc))*100,2),'+/-',round((np.std(CV3F_acc))*100,2))"
      ],
      "id": "9a2735db"
    },
    {
      "cell_type": "markdown",
      "metadata": {
        "id": "3e4fac7f"
      },
      "source": [
        "Note: Changing parameter in scoring for different metrics. recall; f1; precision"
      ],
      "id": "3e4fac7f"
    },
    {
      "cell_type": "markdown",
      "metadata": {
        "id": "3e7e18cd"
      },
      "source": [
        "# Addition tips for plotting confusion matrix"
      ],
      "id": "3e7e18cd"
    },
    {
      "cell_type": "markdown",
      "metadata": {
        "id": "89713065"
      },
      "source": [
        "# IMPORTANT!!!!: In python, true positive is C11; true negative is C00; false positive is C01; false negative is C10"
      ],
      "id": "89713065"
    },
    {
      "cell_type": "code",
      "execution_count": null,
      "metadata": {
        "colab": {
          "base_uri": "https://localhost:8080/",
          "height": 351
        },
        "id": "ba25dd26",
        "outputId": "8d57b028-056f-4a4a-c0b4-401d395916ae"
      },
      "outputs": [
        {
          "name": "stderr",
          "output_type": "stream",
          "text": [
            "/usr/local/lib/python3.8/dist-packages/sklearn/utils/deprecation.py:87: FutureWarning: Function plot_confusion_matrix is deprecated; Function `plot_confusion_matrix` is deprecated in 1.0 and will be removed in 1.2. Use one of the class methods: ConfusionMatrixDisplay.from_predictions or ConfusionMatrixDisplay.from_estimator.\n",
            "  warnings.warn(msg, category=FutureWarning)\n"
          ]
        },
        {
          "data": {
            "text/plain": [
              "<sklearn.metrics._plot.confusion_matrix.ConfusionMatrixDisplay at 0x7f9309642820>"
            ]
          },
          "execution_count": 31,
          "metadata": {},
          "output_type": "execute_result"
        },
        {
          "data": {
            "image/png": "[encoded data removed]",
            "text/plain": [
              "<Figure size 432x288 with 2 Axes>"
            ]
          },
          "metadata": {},
          "output_type": "display_data"
        }
      ],
      "source": [
        "# Training confusion matrix\n",
        "plot_confusion_matrix(model,scaled_x_train,scaled_y_train,display_labels=[\"0 not survived\",\"1 survived\"])"
      ],
      "id": "ba25dd26"
    },
    {
      "cell_type": "code",
      "execution_count": null,
      "metadata": {
        "colab": {
          "base_uri": "https://localhost:8080/",
          "height": 351
        },
        "id": "87cd9bfd",
        "outputId": "01874336-db4f-4661-b290-b449c5f212c0"
      },
      "outputs": [
        {
          "name": "stderr",
          "output_type": "stream",
          "text": [
            "/usr/local/lib/python3.8/dist-packages/sklearn/utils/deprecation.py:87: FutureWarning: Function plot_confusion_matrix is deprecated; Function `plot_confusion_matrix` is deprecated in 1.0 and will be removed in 1.2. Use one of the class methods: ConfusionMatrixDisplay.from_predictions or ConfusionMatrixDisplay.from_estimator.\n",
            "  warnings.warn(msg, category=FutureWarning)\n"
          ]
        },
        {
          "data": {
            "text/plain": [
              "<sklearn.metrics._plot.confusion_matrix.ConfusionMatrixDisplay at 0x7f93094c1520>"
            ]
          },
          "execution_count": 32,
          "metadata": {},
          "output_type": "execute_result"
        },
        {
          "data": {
            "image/png": "[encoded data removed]",
            "text/plain": [
              "<Figure size 432x288 with 2 Axes>"
            ]
          },
          "metadata": {},
          "output_type": "display_data"
        }
      ],
      "source": [
        "# Testing confusion matrix\n",
        "plot_confusion_matrix(model,scaled_x_test,scaled_y_test,display_labels=[\"0 not survived\",\"1 survived\"])"
      ],
      "id": "87cd9bfd"
    },
    {
      "cell_type": "markdown",
      "metadata": {
        "id": "24c133c8"
      },
      "source": [
        "# 7. Hyper parameter tuning"
      ],
      "id": "24c133c8"
    },
    {
      "cell_type": "markdown",
      "metadata": {
        "id": "96f483e4"
      },
      "source": [
        "At this point, you should understand the basic functions that you will need when modeling. In real case scenario, this section provides the basic modeling scheme and combines what you have learned in section 6.   "
      ],
      "id": "96f483e4"
    },
    {
      "cell_type": "code",
      "execution_count": null,
      "metadata": {
        "colab": {
          "base_uri": "https://localhost:8080/"
        },
        "id": "d3a525bb",
        "outputId": "bf7fa51f-94a6-40ca-e3ec-08fbfe0f7ed1"
      },
      "outputs": [
        {
          "name": "stdout",
          "output_type": "stream",
          "text": [
            "Training result\n",
            "Each fold ACC: [0.76987448 0.77731092 0.69327731]\n",
            "Average ACC: 74.68 +/- 3.8\n"
          ]
        }
      ],
      "source": [
        "# 7.1 Split the data (split into 80% training data & 20% testing data) (lock seed)\n",
        "scaled_x_train,scaled_x_test,scaled_y_train,scaled_y_test=train_test_split(scaled_x,scaled_y,test_size=0.2,random_state=4)\n",
        "\n",
        "# 7.2 Manually peforming hyper parameter tuning\n",
        "model_LinearSVM=LinearSVC(C=10000,dual=False,random_state=4)\n",
        "model_LinearSVM.fit(scaled_x_train,scaled_y_train)\n",
        "CV3F_LinearSVM_acc=cross_val_score(model_LinearSVM,scaled_x_train,scaled_y_train,cv=3,scoring='accuracy')\n",
        "\n",
        "#print reault\n",
        "print('Training result')\n",
        "print('Each fold ACC:',CV3F_LinearSVM_acc)\n",
        "print('Average ACC:',round((np.mean(CV3F_LinearSVM_acc))*100,2),'+/-',round((np.std(CV3F_LinearSVM_acc))*100,2))"
      ],
      "id": "d3a525bb"
    },
    {
      "cell_type": "markdown",
      "metadata": {
        "id": "b343c3e3"
      },
      "source": [
        "Note: After finding the best value of C, you should use the scaled testing data set to evaluate the final model."
      ],
      "id": "b343c3e3"
    },
    {
      "cell_type": "code",
      "execution_count": null,
      "metadata": {
        "colab": {
          "base_uri": "https://localhost:8080/",
          "height": 438
        },
        "id": "02570219",
        "outputId": "ec3c5e26-72b7-40de-a8c0-d19580073065",
        "scrolled": false
      },
      "outputs": [
        {
          "name": "stdout",
          "output_type": "stream",
          "text": [
            "Testing ACC: 78.21\n",
            "Testing f1s: 70.23\n",
            "Testing pre: 74.19\n",
            "Testing sen: 66.67\n",
            "Testing spe: 85.45\n"
          ]
        },
        {
          "name": "stderr",
          "output_type": "stream",
          "text": [
            "/usr/local/lib/python3.8/dist-packages/sklearn/utils/deprecation.py:87: FutureWarning: Function plot_confusion_matrix is deprecated; Function `plot_confusion_matrix` is deprecated in 1.0 and will be removed in 1.2. Use one of the class methods: ConfusionMatrixDisplay.from_predictions or ConfusionMatrixDisplay.from_estimator.\n",
            "  warnings.warn(msg, category=FutureWarning)\n"
          ]
        },
        {
          "data": {
            "text/plain": [
              "<sklearn.metrics._plot.confusion_matrix.ConfusionMatrixDisplay at 0x7f9308f98160>"
            ]
          },
          "execution_count": 34,
          "metadata": {},
          "output_type": "execute_result"
        },
        {
          "data": {
            "image/png": "[encoded data removed]",
            "text/plain": [
              "<Figure size 432x288 with 2 Axes>"
            ]
          },
          "metadata": {},
          "output_type": "display_data"
        }
      ],
      "source": [
        "# 7.3 Evaluate with testing data set\n",
        "final_model_testing_prediction=model_LinearSVM.predict(scaled_x_test)\n",
        "final_model_testing_acc=accuracy_score(scaled_y_test,final_model_testing_prediction)\n",
        "final_model_testing_f1s=f1_score(scaled_y_test,final_model_testing_prediction,pos_label=1)\n",
        "final_model_testing_pre=precision_score(scaled_y_test,final_model_testing_prediction,pos_label=1)\n",
        "final_model_testing_sen=sensitivity_score(scaled_y_test,final_model_testing_prediction,pos_label=1)\n",
        "final_model_testing_spe=specificity_score(scaled_y_test,final_model_testing_prediction,pos_label=1)\n",
        "\n",
        "#print result\n",
        "print('Testing ACC:',round(final_model_testing_acc*100,2))\n",
        "print('Testing f1s:',round(final_model_testing_f1s*100,2))\n",
        "print('Testing pre:',round(final_model_testing_pre*100,2))\n",
        "print('Testing sen:',round(final_model_testing_sen*100,2))\n",
        "print('Testing spe:',round(final_model_testing_spe*100,2))\n",
        "plot_confusion_matrix(model_LinearSVM,scaled_x_test,scaled_y_test,display_labels=[\"0 not survived\",\"1 survived\"])"
      ],
      "id": "02570219"
    },
    {
      "cell_type": "code",
      "execution_count": null,
      "metadata": {
        "colab": {
          "base_uri": "https://localhost:8080/"
        },
        "id": "bdb27018",
        "outputId": "907b5563-812f-4aa9-a35d-5035ee2941dc"
      },
      "outputs": [
        {
          "name": "stdout",
          "output_type": "stream",
          "text": [
            "Coefficient\n",
            "[-0.63200843 -0.52259189  0.17641301  0.49390659  0.29425779  0.06521805\n",
            " -0.23250799  0.46504176 -0.3380739  -0.03392155  0.19231493 -0.03142553]\n",
            "==========================================================================\n",
            "Intercept\n",
            "[0.12696785]\n"
          ]
        }
      ],
      "source": [
        "# Get the weights for forming the hyperplane equation\n",
        "print('Coefficient')\n",
        "print(model_LinearSVM.coef_[0])\n",
        "print('==========================================================================')\n",
        "print('Intercept')\n",
        "print(model_LinearSVM.intercept_)"
      ],
      "id": "bdb27018"
    },
    {
      "cell_type": "code",
      "execution_count": null,
      "metadata": {
        "colab": {
          "base_uri": "https://localhost:8080/"
        },
        "id": "1b606c4c",
        "outputId": "557f517f-2a12-4267-ffde-d41da8b339c3"
      },
      "outputs": [
        {
          "data": {
            "text/plain": [
              "array([-0.69641626,  0.65212404, -0.33206286, -0.73290577,  0.17596568,\n",
              "       -0.86113937, -0.2305728 , -0.51323402, -0.7263909 , -0.29821973,\n",
              "       -0.16157547,  0.39956006,  0.03010172,  0.48599544, -0.26524152,\n",
              "        0.2994316 , -0.23267163, -0.28659713,  0.39777646,  0.02779174,\n",
              "        0.38063481, -0.79919953, -0.15701863,  0.67260472, -0.41326497,\n",
              "       -0.78801168, -0.76766771,  0.23579682, -0.55314661, -0.7045211 ,\n",
              "       -0.71318883,  0.22826978, -0.75982462,  0.30346433, -0.64270936,\n",
              "        0.09756801,  0.37231752, -0.2530916 , -0.28284327, -1.03685704,\n",
              "       -0.6601396 , -0.42365828, -0.88515109, -0.73305443, -0.2904131 ,\n",
              "        0.45031223, -0.62275025, -0.06747246, -0.36260074,  0.06086158,\n",
              "       -0.80633077, -0.44782784, -0.18883544, -0.72393499,  0.29461709,\n",
              "        0.10676255, -0.65124112,  0.76040614, -0.83461006, -0.3193505 ,\n",
              "        0.04202365, -0.92374395, -0.65962943,  0.43509195,  0.20431168,\n",
              "       -0.43316051,  0.29399961, -0.1729338 , -0.65987449, -0.77870348,\n",
              "        0.14696563, -0.37545047, -0.88040777, -0.32981902,  0.48832193,\n",
              "        0.24792046, -0.28659713, -0.79189155,  0.46425015,  0.18185167,\n",
              "       -0.33538812, -1.01439693, -0.66292078, -0.66897773,  0.28988164,\n",
              "       -0.15083712, -0.31707019, -0.63010627, -0.66291673, -0.34494533,\n",
              "       -0.40346492, -0.66802708, -0.38065561, -0.72900795, -0.56385194,\n",
              "       -0.73727036, -0.75167873,  0.70848445,  0.69614815,  0.41656619,\n",
              "       -0.05964585,  0.81217902,  0.35550502,  0.5640886 ,  0.29430919,\n",
              "        0.0737812 , -0.85352229,  0.16196672, -0.5277736 ,  0.34043787,\n",
              "       -0.01020223,  0.80211279, -0.62328047, -0.72401134, -0.42645333,\n",
              "       -0.59291147, -0.71477545, -0.59560566,  0.29288991, -0.64459765,\n",
              "       -0.70063219, -0.22337977, -0.32569836, -0.59943905, -0.75122486,\n",
              "       -0.55864132,  0.41992709, -0.72374623, -0.75134536,  0.45273371,\n",
              "       -0.37820325, -0.79982059,  0.44018065,  0.08826386,  0.23145179,\n",
              "       -0.54032223, -0.2572836 ,  0.78483413, -0.37533868, -0.15129464,\n",
              "       -0.54032223,  0.24158074, -0.96688992, -0.48141058,  0.77186297,\n",
              "       -0.67794852,  0.14322111, -0.9139644 , -0.44006411, -0.72990702,\n",
              "       -0.65059039,  0.33484226,  0.31775068, -0.42701864,  0.53599222,\n",
              "        0.31373488, -0.39617966, -0.65837618, -0.52721377,  0.43208131,\n",
              "       -0.67197147,  0.61767615, -0.50031107, -0.29821973,  0.00593582,\n",
              "       -0.77870348, -0.17010574, -0.70483667, -0.62105228, -0.22789106,\n",
              "       -0.73037224, -0.32873739,  0.44357417, -0.72234837, -0.39376955,\n",
              "        0.00657897,  0.12787311, -0.48536498,  0.37126072])"
            ]
          },
          "execution_count": 84,
          "metadata": {},
          "output_type": "execute_result"
        }
      ],
      "source": [
        "# Demo\n",
        "testing_distance_to_hyperplane=model_LinearSVM.decision_function(scaled_x_test)\n",
        "testing_distance_to_hyperplane"
      ],
      "id": "1b606c4c"
    },
    {
      "cell_type": "code",
      "execution_count": null,
      "metadata": {
        "colab": {
          "base_uri": "https://localhost:8080/"
        },
        "id": "83c5f3d4",
        "outputId": "5293653a-9db6-4e6b-f287-3c29839bd2ce"
      },
      "outputs": [
        {
          "data": {
            "text/plain": [
              "array([0, 1, 0, 0, 1, 0, 0, 0, 0, 0, 0, 1, 1, 1, 0, 1, 0, 0, 1, 1, 1, 0,\n",
              "       0, 1, 0, 0, 0, 1, 0, 0, 0, 1, 0, 1, 0, 1, 1, 0, 0, 0, 0, 0, 0, 0,\n",
              "       0, 1, 0, 0, 0, 1, 0, 0, 0, 0, 1, 1, 0, 1, 0, 0, 1, 0, 0, 1, 1, 0,\n",
              "       1, 0, 0, 0, 1, 0, 0, 0, 1, 1, 0, 0, 1, 1, 0, 0, 0, 0, 1, 0, 0, 0,\n",
              "       0, 0, 0, 0, 0, 0, 0, 0, 0, 1, 1, 1, 0, 1, 1, 1, 1, 1, 0, 1, 0, 1,\n",
              "       0, 1, 0, 0, 0, 0, 0, 0, 1, 0, 0, 0, 0, 0, 0, 0, 1, 0, 0, 1, 0, 0,\n",
              "       1, 1, 1, 0, 0, 1, 0, 0, 0, 1, 0, 0, 1, 0, 1, 0, 0, 0, 0, 1, 1, 0,\n",
              "       1, 1, 0, 0, 0, 1, 0, 1, 0, 0, 1, 0, 0, 0, 0, 0, 0, 0, 1, 0, 0, 1,\n",
              "       1, 0, 1])"
            ]
          },
          "execution_count": 85,
          "metadata": {},
          "output_type": "execute_result"
        }
      ],
      "source": [
        "# Demo\n",
        "final_model_testing_prediction"
      ],
      "id": "83c5f3d4"
    },
    {
      "cell_type": "markdown",
      "metadata": {
        "id": "6b218fbc"
      },
      "source": [
        "# Addition tips: SVM with radio base function kernel"
      ],
      "id": "6b218fbc"
    },
    {
      "cell_type": "markdown",
      "metadata": {
        "id": "29ad07ef"
      },
      "source": [
        "Sklearn also provides a function for SVM that user can easily select the kernel function, the following example demonstrates fitting the SVM with the radio base function"
      ],
      "id": "29ad07ef"
    },
    {
      "cell_type": "code",
      "execution_count": null,
      "metadata": {
        "colab": {
          "base_uri": "https://localhost:8080/"
        },
        "id": "12ca5a00",
        "outputId": "240b49ae-7e7a-4bae-dc39-9eba938083c7"
      },
      "outputs": [
        {
          "name": "stdout",
          "output_type": "stream",
          "text": [
            "Test result\n",
            "Each fold ACC: [0.83333333 0.76666667 0.77966102]\n",
            "Average ACC: 79.32 +/- 2.89\n"
          ]
        }
      ],
      "source": [
        "from sklearn.svm import SVC\n",
        "# Split the data (split into 80% training data & 20% testing data) (lock seed)\n",
        "scaled_x_train,scaled_x_test,scaled_y_train,scaled_y_test=train_test_split(scaled_x,scaled_y,test_size=0.2,random_state=1000)\n",
        "\n",
        "# Manually peforming hyper parameter tuning gamma in the range of 0 to 1\n",
        "model_RBF_SVM=SVC(kernel='rbf',gamma=0.5,C=1000,random_state=4)\n",
        "model_RBF_SVM.fit(scaled_x_test,scaled_y_test)\n",
        "CV3F_SVM_acc=cross_val_score(model_RBF_SVM,scaled_x_test,scaled_y_test,cv=3,scoring='accuracy')\n",
        "\n",
        "#print reault\n",
        "print('Test result')\n",
        "print('Each fold ACC:',CV3F_SVM_acc)\n",
        "print('Average ACC:',round((np.mean(CV3F_SVM_acc))*100,2),'+/-',round((np.std(CV3F_SVM_acc))*100,2))"
      ],
      "id": "12ca5a00"
    },
    {
      "cell_type": "code",
      "execution_count": null,
      "metadata": {
        "colab": {
          "base_uri": "https://localhost:8080/",
          "height": 455
        },
        "id": "f8ef55ba",
        "outputId": "529a4345-60dd-4a6e-b01e-f106b5c4ce10"
      },
      "outputs": [
        {
          "name": "stdout",
          "output_type": "stream",
          "text": [
            "Scoring:\n",
            "ACC: 88.83\n",
            "f1s: 87.01\n",
            "pre: 85.9\n",
            "sen: 88.16\n",
            "spe: 89.32\n"
          ]
        },
        {
          "name": "stderr",
          "output_type": "stream",
          "text": [
            "/usr/local/lib/python3.8/dist-packages/sklearn/utils/deprecation.py:87: FutureWarning: Function plot_confusion_matrix is deprecated; Function `plot_confusion_matrix` is deprecated in 1.0 and will be removed in 1.2. Use one of the class methods: ConfusionMatrixDisplay.from_predictions or ConfusionMatrixDisplay.from_estimator.\n",
            "  warnings.warn(msg, category=FutureWarning)\n"
          ]
        },
        {
          "data": {
            "text/plain": [
              "<sklearn.metrics._plot.confusion_matrix.ConfusionMatrixDisplay at 0x7f9308f2b5b0>"
            ]
          },
          "execution_count": 39,
          "metadata": {},
          "output_type": "execute_result"
        },
        {
          "data": {
            "image/png": "[encoded data removed]",
            "text/plain": [
              "<Figure size 432x288 with 2 Axes>"
            ]
          },
          "metadata": {},
          "output_type": "display_data"
        }
      ],
      "source": [
        "# Evaluate with testing data set\n",
        "RBF_SVM_testing_prediction=model_RBF_SVM.predict(scaled_x_test)\n",
        "RBF_SVM_testing_acc=accuracy_score(scaled_y_test,RBF_SVM_testing_prediction)\n",
        "RBF_SVM_testing_f1s=f1_score(scaled_y_test,RBF_SVM_testing_prediction,pos_label=1)\n",
        "RBF_SVM_testing_pre=precision_score(scaled_y_test,RBF_SVM_testing_prediction,pos_label=1)\n",
        "RBF_SVM_testing_sen=sensitivity_score(scaled_y_test,RBF_SVM_testing_prediction,pos_label=1)\n",
        "RBF_SVM_testing_spe=specificity_score(scaled_y_test,RBF_SVM_testing_prediction,pos_label=1)\n",
        "\n",
        "#print result\n",
        "print('Scoring:')\n",
        "print('ACC:',round(RBF_SVM_testing_acc*100,2))\n",
        "print('f1s:',round(RBF_SVM_testing_f1s*100,2))\n",
        "print('pre:',round(RBF_SVM_testing_pre*100,2))\n",
        "print('sen:',round(RBF_SVM_testing_sen*100,2))\n",
        "print('spe:',round(RBF_SVM_testing_spe*100,2))\n",
        "plot_confusion_matrix(model_RBF_SVM,scaled_x_test,scaled_y_test,display_labels=[\"0 not survived\",\"1 survived\"])"
      ],
      "id": "f8ef55ba"
    },
    {
      "cell_type": "markdown",
      "metadata": {
        "id": "48756ea5"
      },
      "source": [
        "# Addition tips: SVM with polynomial kernel"
      ],
      "id": "48756ea5"
    },
    {
      "cell_type": "markdown",
      "metadata": {
        "id": "8f3419bd"
      },
      "source": [
        "Sklearn also provides a function for SVM that user can easily select the kernel function, the following example demonstrates fitting the SVM with the polynomial kernel"
      ],
      "id": "8f3419bd"
    },
    {
      "cell_type": "code",
      "execution_count": null,
      "metadata": {
        "id": "f5a8229f",
        "outputId": "e975a0d9-68bb-4a9f-ed97-adff0357c379"
      },
      "outputs": [
        {
          "name": "stdout",
          "output_type": "stream",
          "text": [
            "Training result\n",
            "Each fold ACC: [0.71875 0.8     0.7625  0.7375  0.76875]\n",
            "Average ACC: 75.75 +/- 2.78\n"
          ]
        }
      ],
      "source": [
        "from sklearn.svm import SVC\n",
        "# Split the data (split into 80% training data & 20% testing data) (lock seed)\n",
        "scaled_x_train,scaled_x_test,scaled_y_train,scaled_y_test=train_test_split(scaled_x,scaled_y,test_size=0.2,random_state=4)\n",
        "\n",
        "# Manually peforming hyper parameter tuning gamma in the range of 0 to 1\n",
        "model_poly_SVM=SVC(kernel='poly',gamma=0.5,C=100,degree=4,random_state=4)\n",
        "model_poly_SVM.fit(scaled_x_train,scaled_y_train)\n",
        "CV5F_SVM_acc=cross_val_score(model_poly_SVM,scaled_x_train,scaled_y_train,cv=5,scoring='accuracy')\n",
        "\n",
        "#print reault\n",
        "print('Training result')\n",
        "print('Each fold ACC:',CV5F_SVM_acc)\n",
        "print('Average ACC:',round((np.mean(CV5F_SVM_acc))*100,2),'+/-',round((np.std(CV5F_SVM_acc))*100,2))"
      ],
      "id": "f5a8229f"
    },
    {
      "cell_type": "code",
      "execution_count": null,
      "metadata": {
        "id": "0a0cc9f2",
        "outputId": "6cace047-7ae4-405c-cbc2-8cd4ed505b9e"
      },
      "outputs": [
        {
          "name": "stdout",
          "output_type": "stream",
          "text": [
            "Testing ACC: 73.63\n",
            "Testing f1s: 65.36\n",
            "Testing pre: 67.57\n",
            "Testing sen: 63.29\n",
            "Testing spe: 80.33\n"
          ]
        },
        {
          "data": {
            "text/plain": [
              "<sklearn.metrics._plot.confusion_matrix.ConfusionMatrixDisplay at 0x1f962944760>"
            ]
          },
          "execution_count": 30,
          "metadata": {},
          "output_type": "execute_result"
        },
        {
          "data": {
            "image/png": "[encoded data removed]",
            "text/plain": [
              "<Figure size 432x288 with 2 Axes>"
            ]
          },
          "metadata": {},
          "output_type": "display_data"
        }
      ],
      "source": [
        "# Evaluate with testing data set\n",
        "POLY_SVM_testing_prediction=model_poly_SVM.predict(scaled_x_test)\n",
        "POLY_SVM_testing_acc=accuracy_score(scaled_y_test,RBF_SVM_testing_prediction)\n",
        "POLY_SVM_testing_f1s=f1_score(scaled_y_test,RBF_SVM_testing_prediction,pos_label=1)\n",
        "POLY_SVM_testing_pre=precision_score(scaled_y_test,RBF_SVM_testing_prediction,pos_label=1)\n",
        "POLY_SVM_testing_sen=sensitivity_score(scaled_y_test,RBF_SVM_testing_prediction,pos_label=1)\n",
        "POLY_SVM_testing_spe=specificity_score(scaled_y_test,RBF_SVM_testing_prediction,pos_label=1)\n",
        "\n",
        "#print result\n",
        "print('Testing ACC:',round(POLY_SVM_testing_acc*100,2))\n",
        "print('Testing f1s:',round(POLY_SVM_testing_f1s*100,2))\n",
        "print('Testing pre:',round(POLY_SVM_testing_pre*100,2))\n",
        "print('Testing sen:',round(POLY_SVM_testing_sen*100,2))\n",
        "print('Testing spe:',round(POLY_SVM_testing_spe*100,2))\n",
        "plot_confusion_matrix(model_poly_SVM,scaled_x_test,scaled_y_test,display_labels=[\"0 not survived\",\"1 survived\"])"
      ],
      "id": "0a0cc9f2"
    },
    {
      "cell_type": "code",
      "execution_count": null,
      "metadata": {
        "id": "89a378b2"
      },
      "outputs": [],
      "source": [],
      "id": "89a378b2"
    }
  ],
  "metadata": {
    "colab": {
      "provenance": [],
      "include_colab_link": true
    },
    "kernelspec": {
      "display_name": "Python 3",
      "language": "python",
      "name": "python3"
    },
    "language_info": {
      "codemirror_mode": {
        "name": "ipython",
        "version": 3
      },
      "file_extension": ".py",
      "mimetype": "text/x-python",
      "name": "python",
      "nbconvert_exporter": "python",
      "pygments_lexer": "ipython3",
      "version": "3.8.8"
    }
  },
  "nbformat": 4,
  "nbformat_minor": 5
}